{
 "cells": [
  {
   "cell_type": "markdown",
   "metadata": {},
   "source": [
    "# Lab 1. Bag of Words (BoW)"
   ]
  },
  {
   "cell_type": "markdown",
   "metadata": {},
   "source": [
    "### Import libraries"
   ]
  },
  {
   "cell_type": "code",
   "execution_count": 1,
   "metadata": {},
   "outputs": [],
   "source": [
    "from typing import List\n",
    "\n",
    "from bow import BoW\n",
    "from dataset import Dataset\n",
    "from image_classifier import ImageClassifier"
   ]
  },
  {
   "cell_type": "markdown",
   "metadata": {},
   "source": [
    "### Load helper functions"
   ]
  },
  {
   "attachments": {},
   "cell_type": "markdown",
   "metadata": {},
   "source": [
    "Una palabra aquí es un vector de 128 elementos.\n",
    "\n",
    "Son clusters de kas caracreristicas que quiero sacar. \n",
    "\n",
    "Para reducir dimensionalidad, una opcion sería hacer un PCA. En otro caso, podriamos agrupar\n",
    "\n",
    "Es mejor ampliar el numero de palabras (size) que el numero de iteraciones. Porque kmeans empieza en aleaotorio. Cada iteracion obtenemos una salida."
   ]
  },
  {
   "cell_type": "code",
   "execution_count": 2,
   "metadata": {},
   "outputs": [],
   "source": [
    "def build_vocabulary(dataset: List[str], vocabulary: str = 'vocabulary', feature_type: str = 'SIFT', size: int = 100, iterations: int = 20):\n",
    "    \"\"\"Build a vocabulary.\n",
    "\n",
    "    Args:\n",
    "        dataset: Paths to the training images.\n",
    "        vocabulary: Relative path to the file (without extension) where the vocabulary will be saved.\n",
    "        feature_type: Feature extractor { SIFT, KAZE }.\n",
    "        size: Number of words in the vocabulary. -- Cuántos clusters quiero sacar\n",
    "        iterations: Maximum number of K-means iterations. -- Num iteracionses que va a hacer el modelo\n",
    "\n",
    "    \"\"\"\n",
    "    bow = BoW()\n",
    "    bow.build_vocabulary(dataset, feature_type=feature_type, vocabulary_size=size, iterations=iterations)\n",
    "    bow.save_vocabulary(vocabulary)\n",
    "\n",
    "def train_classifier(dataset: List[str], vocabulary: str = 'vocabulary', classifier: str = 'classifier', iterations: int = 100, kernel: str = 'SVM_LINEAR'):\n",
    "    \"\"\"Train an SVM classifier.\n",
    "\n",
    "    Args:\n",
    "        dataset: Paths to the training images.\n",
    "        vocabulary: Relative path to the vocabulary file (without extension).\n",
    "        classifier: Relative path to the file (without extension) where the classifier will be saved.\n",
    "        iterations: Maximum number of SVM iterations.\n",
    "\n",
    "    \"\"\"\n",
    "    bow = BoW()\n",
    "    bow.load_vocabulary(vocabulary)\n",
    "    print(\"Kernel elegido: \", kernel)\n",
    "    image_classifier = ImageClassifier(bow)\n",
    "    image_classifier.train(dataset, iterations=iterations, kernel_type=kernel)\n",
    "    image_classifier.save(classifier)\n",
    "\n",
    "def predict(dataset: List[str], dataset_name: str = \"\", vocabulary: str = 'vocabulary', classifier: str = 'classifier'):\n",
    "    \"\"\"Perform inference on a dataset.\n",
    "\n",
    "    Args:\n",
    "        dataset: Paths to the images.\n",
    "        dataset_name: Dataset descriptive name.\n",
    "        vocabulary: Relative path to the vocabulary file (without extension).\n",
    "        classifier: Relative path to the classifier file (without extension).\n",
    "\n",
    "    \"\"\"\n",
    "    bow = BoW()\n",
    "    bow.load_vocabulary(vocabulary)\n",
    "\n",
    "    image_classifier = ImageClassifier(bow)\n",
    "    image_classifier.load(classifier)\n",
    "    image_classifier.predict(dataset, dataset_name=dataset_name)"
   ]
  },
  {
   "cell_type": "markdown",
   "metadata": {},
   "source": [
    "### Load datasets"
   ]
  },
  {
   "cell_type": "code",
   "execution_count": 3,
   "metadata": {},
   "outputs": [],
   "source": [
    "training_set = Dataset.load('../dataset/training', '*.jpg')\n",
    "validation_set = Dataset.load('../dataset/validation', '*.jpg')"
   ]
  },
  {
   "attachments": {},
   "cell_type": "markdown",
   "metadata": {},
   "source": [
    "### Build vocabularies"
   ]
  },
  {
   "cell_type": "code",
   "execution_count": 4,
   "metadata": {},
   "outputs": [
    {
     "name": "stdout",
     "output_type": "stream",
     "text": [
      "\n",
      "BUILDING DICTIONARY\n",
      "\n",
      "Computing SIFT descriptors...\n",
      "100%|██████████| 2985/2985 [01:10<00:00, 42.18image/s]\n",
      "\n",
      "Clustering descriptors into 100 words using K-means...\n"
     ]
    }
   ],
   "source": [
    "\"\"\"\n",
    "Build a vocabulary.\n",
    "\n",
    "Args:\n",
    "    dataset: Paths to the training images.\n",
    "    vocabulary: Relative path to the file (without extension) where the vocabulary will be saved.\n",
    "    feature_type: Feature extractor { SIFT, KAZE }.\n",
    "    size: Number of words in the vocabulary. -- Cuántos clusters quiero sacar\n",
    "    iterations: Maximum number of K-means iterations. -- Num iteracionses que va a hacer el modelo\n",
    "\n",
    "\"\"\"\n",
    "build_vocabulary(training_set, vocabulary=\"vocabulary_SIFT_100_20\", feature_type=\"SIFT\", size=100, iterations=20) "
   ]
  },
  {
   "cell_type": "code",
   "execution_count": 5,
   "metadata": {},
   "outputs": [
    {
     "name": "stdout",
     "output_type": "stream",
     "text": [
      "\n",
      "BUILDING DICTIONARY\n",
      "\n",
      "Computing SIFT descriptors...\n",
      "100%|██████████| 2985/2985 [00:43<00:00, 69.10image/s]\n",
      "\n",
      "Clustering descriptors into 1000 words using K-means...\n"
     ]
    }
   ],
   "source": [
    "build_vocabulary(training_set, vocabulary=\"vocabulary_SIFT_1000_50\", feature_type=\"SIFT\", size=1000, iterations=50) "
   ]
  },
  {
   "cell_type": "code",
   "execution_count": 6,
   "metadata": {},
   "outputs": [
    {
     "name": "stdout",
     "output_type": "stream",
     "text": [
      "\n",
      "BUILDING DICTIONARY\n",
      "\n",
      "Computing KAZE descriptors...\n",
      "100%|██████████| 2985/2985 [02:05<00:00, 23.82image/s]\n",
      "\n",
      "Clustering descriptors into 100 words using K-means...\n"
     ]
    }
   ],
   "source": [
    "build_vocabulary(training_set, vocabulary=\"vocabulary_KAZE_100_20\", feature_type=\"KAZE\", size=100, iterations=20) "
   ]
  },
  {
   "cell_type": "code",
   "execution_count": 7,
   "metadata": {},
   "outputs": [
    {
     "name": "stdout",
     "output_type": "stream",
     "text": [
      "\n",
      "BUILDING DICTIONARY\n",
      "\n",
      "Computing KAZE descriptors...\n",
      "100%|██████████| 2985/2985 [02:04<00:00, 24.01image/s]\n",
      "\n",
      "Clustering descriptors into 1000 words using K-means...\n"
     ]
    }
   ],
   "source": [
    "build_vocabulary(training_set, vocabulary=\"vocabulary_KAZE_1000_50\", feature_type=\"KAZE\", size=1000, iterations=50)"
   ]
  },
  {
   "cell_type": "markdown",
   "metadata": {},
   "source": [
    "#### Segunda ronda de entrenamiento"
   ]
  },
  {
   "cell_type": "code",
   "execution_count": 4,
   "metadata": {},
   "outputs": [
    {
     "name": "stdout",
     "output_type": "stream",
     "text": [
      "\n",
      "BUILDING DICTIONARY\n",
      "\n",
      "Computing SIFT descriptors...\n",
      "100%|██████████| 2985/2985 [00:35<00:00, 84.01image/s] \n",
      "\n",
      "Clustering descriptors into 2000 words using K-means...\n"
     ]
    }
   ],
   "source": [
    "build_vocabulary(training_set, vocabulary=\"vocabulary_SIFT_2000_50\", feature_type=\"SIFT\", size=2000, iterations=50)"
   ]
  },
  {
   "cell_type": "code",
   "execution_count": 5,
   "metadata": {},
   "outputs": [
    {
     "name": "stdout",
     "output_type": "stream",
     "text": [
      "\n",
      "BUILDING DICTIONARY\n",
      "\n",
      "Computing SIFT descriptors...\n",
      "100%|██████████| 2985/2985 [01:09<00:00, 43.03image/s]\n",
      "\n",
      "Clustering descriptors into 2000 words using K-means...\n"
     ]
    }
   ],
   "source": [
    "build_vocabulary(training_set, vocabulary=\"vocabulary_SIFT_2000_100\", feature_type=\"SIFT\", size=2000, iterations=100)"
   ]
  },
  {
   "cell_type": "code",
   "execution_count": 6,
   "metadata": {},
   "outputs": [
    {
     "name": "stdout",
     "output_type": "stream",
     "text": [
      "\n",
      "BUILDING DICTIONARY\n",
      "\n",
      "Computing SIFT descriptors...\n",
      "100%|██████████| 2985/2985 [00:49<00:00, 60.76image/s]\n",
      "\n",
      "Clustering descriptors into 2000 words using K-means...\n"
     ]
    }
   ],
   "source": [
    "# Probamos con KAZE también, aunque hemos visto que no da tan buenos resultados\n",
    "build_vocabulary(Validation_set, vocabulary=\"vocabulary_KAZE_2000_50\", feature_type=\"SIFT\", size=2000, iterations=50)"
   ]
  },
  {
   "attachments": {},
   "cell_type": "markdown",
   "metadata": {},
   "source": [
    "### Train SVM classifiers\n",
    "\n",
    "Hemos probado y aumentar las iteraciones que hace el modelo en train a más de 100 no aporta valor, así que las dejamos fijas en 1000"
   ]
  },
  {
   "attachments": {},
   "cell_type": "markdown",
   "metadata": {},
   "source": [
    "#### Kernel Lineal"
   ]
  },
  {
   "cell_type": "code",
   "execution_count": 8,
   "metadata": {},
   "outputs": [
    {
     "name": "stdout",
     "output_type": "stream",
     "text": [
      "Kernel elegido:  SVM_LINEAR\n",
      "\n",
      "\n",
      "TRAINING CLASSIFIER\n",
      "\n",
      "Extracting features...\n",
      "100%|██████████| 2985/2985 [01:14<00:00, 39.90image/s]\n",
      "\n",
      "Training SVM...\n"
     ]
    }
   ],
   "source": [
    "\"\"\"\n",
    "Train an SVM classifier.\n",
    "\n",
    "Args:\n",
    "    dataset: Paths to the training images.\n",
    "    vocabulary: Relative path to the vocabulary file (without extension).\n",
    "    classifier: Relative path to the file (without extension) where the classifier will be saved.\n",
    "    iterations: Maximum number of SVM iterations.\n",
    "    kernel: Type of SVM Kernel { SVM_LINEAR, SVM_RBF, SVM_POLY, SVM_SIGMOID, SVM_CHI2, SVM_INTER }\n",
    "\"\"\"\n",
    "train_classifier(training_set, vocabulary=\"vocabulary_SIFT_100_20\", classifier=\"classifier_LINEAR-SIFT_100_20\", iterations=100, kernel= \"SVM_LINEAR\")"
   ]
  },
  {
   "cell_type": "code",
   "execution_count": 9,
   "metadata": {},
   "outputs": [
    {
     "name": "stdout",
     "output_type": "stream",
     "text": [
      "Kernel elegido:  SVM_LINEAR\n",
      "\n",
      "\n",
      "TRAINING CLASSIFIER\n",
      "\n",
      "Extracting features...\n",
      "100%|██████████| 2985/2985 [02:05<00:00, 23.75image/s]\n",
      "\n",
      "Training SVM...\n"
     ]
    }
   ],
   "source": [
    "train_classifier(training_set, vocabulary=\"vocabulary_SIFT_1000_50\", classifier=\"classifier_LINEAR-SIFT_1000_50\", iterations=100, kernel= \"SVM_LINEAR\")"
   ]
  },
  {
   "cell_type": "code",
   "execution_count": 10,
   "metadata": {},
   "outputs": [
    {
     "name": "stdout",
     "output_type": "stream",
     "text": [
      "Kernel elegido:  SVM_LINEAR\n",
      "\n",
      "\n",
      "TRAINING CLASSIFIER\n",
      "\n",
      "Extracting features...\n",
      "100%|██████████| 2985/2985 [04:35<00:00, 10.84image/s]\n",
      "\n",
      "Training SVM...\n"
     ]
    }
   ],
   "source": [
    "train_classifier(training_set, vocabulary=\"vocabulary_KAZE_100_20\", classifier=\"classifier_LINEAR-KAZE_100_20\", iterations=100, kernel= \"SVM_LINEAR\")"
   ]
  },
  {
   "cell_type": "code",
   "execution_count": 11,
   "metadata": {},
   "outputs": [
    {
     "name": "stdout",
     "output_type": "stream",
     "text": [
      "Kernel elegido:  SVM_LINEAR\n",
      "\n",
      "\n",
      "TRAINING CLASSIFIER\n",
      "\n",
      "Extracting features...\n",
      "100%|██████████| 2985/2985 [04:45<00:00, 10.47image/s]\n",
      "\n",
      "Training SVM...\n"
     ]
    }
   ],
   "source": [
    "train_classifier(training_set, vocabulary=\"vocabulary_KAZE_1000_50\", classifier=\"classifier_LINEAR-KAZE_1000_50\", iterations=100, kernel= \"SVM_LINEAR\")"
   ]
  },
  {
   "attachments": {},
   "cell_type": "markdown",
   "metadata": {},
   "source": [
    "#### Kernel RBF"
   ]
  },
  {
   "cell_type": "code",
   "execution_count": 12,
   "metadata": {},
   "outputs": [
    {
     "name": "stdout",
     "output_type": "stream",
     "text": [
      "Kernel elegido:  SVM_RBF\n",
      "\n",
      "\n",
      "TRAINING CLASSIFIER\n",
      "\n",
      "Extracting features...\n",
      "100%|██████████| 2985/2985 [01:13<00:00, 40.54image/s]\n",
      "\n",
      "Training SVM...\n"
     ]
    }
   ],
   "source": [
    "train_classifier(training_set, vocabulary=\"vocabulary_SIFT_100_20\", classifier=\"classifier_RBF-SIFT_100_20\", iterations=100, kernel= \"SVM_RBF\")"
   ]
  },
  {
   "cell_type": "code",
   "execution_count": 13,
   "metadata": {},
   "outputs": [
    {
     "name": "stdout",
     "output_type": "stream",
     "text": [
      "Kernel elegido:  SVM_RBF\n",
      "\n",
      "\n",
      "TRAINING CLASSIFIER\n",
      "\n",
      "Extracting features...\n",
      "100%|██████████| 2985/2985 [02:19<00:00, 21.44image/s]\n",
      "\n",
      "Training SVM...\n"
     ]
    }
   ],
   "source": [
    "train_classifier(training_set, vocabulary=\"vocabulary_SIFT_1000_50\", classifier=\"classifier_RBF-SIFT_1000_50\", iterations=100, kernel= \"SVM_RBF\")"
   ]
  },
  {
   "cell_type": "code",
   "execution_count": 14,
   "metadata": {},
   "outputs": [
    {
     "name": "stdout",
     "output_type": "stream",
     "text": [
      "Kernel elegido:  SVM_RBF\n",
      "\n",
      "\n",
      "TRAINING CLASSIFIER\n",
      "\n",
      "Extracting features...\n",
      "100%|██████████| 2985/2985 [04:21<00:00, 11.41image/s]\n",
      "\n",
      "Training SVM...\n"
     ]
    }
   ],
   "source": [
    "train_classifier(training_set, vocabulary=\"vocabulary_KAZE_100_20\", classifier=\"classifier_RBF-KAZE_100_20\", iterations=100, kernel= \"SVM_RBF\")"
   ]
  },
  {
   "cell_type": "code",
   "execution_count": 19,
   "metadata": {},
   "outputs": [
    {
     "name": "stdout",
     "output_type": "stream",
     "text": [
      "Kernel elegido:  SVM_RBF\n",
      "\n",
      "\n",
      "TRAINING CLASSIFIER\n",
      "\n",
      "Extracting features...\n",
      "100%|██████████| 2985/2985 [05:17<00:00,  9.41image/s]\n",
      "\n",
      "Training SVM...\n"
     ]
    }
   ],
   "source": [
    "train_classifier(training_set, vocabulary=\"vocabulary_KAZE_1000_50\", classifier=\"classifier_RBF-KAZE_1000_50\", iterations=100, kernel= \"SVM_RBF\")"
   ]
  },
  {
   "attachments": {},
   "cell_type": "markdown",
   "metadata": {},
   "source": [
    "#### Kernel Sigmoid"
   ]
  },
  {
   "cell_type": "code",
   "execution_count": 20,
   "metadata": {},
   "outputs": [
    {
     "name": "stdout",
     "output_type": "stream",
     "text": [
      "Kernel elegido:  SVM_SIGMOID\n",
      "\n",
      "\n",
      "TRAINING CLASSIFIER\n",
      "\n",
      "Extracting features...\n",
      "100%|██████████| 2985/2985 [01:44<00:00, 28.61image/s]\n",
      "\n",
      "Training SVM...\n"
     ]
    }
   ],
   "source": [
    "train_classifier(training_set, vocabulary=\"vocabulary_SIFT_100_20\", classifier=\"classifier_SIGMOID-SIFT_100_20\", iterations=100, kernel= \"SVM_SIGMOID\")"
   ]
  },
  {
   "cell_type": "code",
   "execution_count": 21,
   "metadata": {},
   "outputs": [
    {
     "name": "stdout",
     "output_type": "stream",
     "text": [
      "Kernel elegido:  SVM_SIGMOID\n",
      "\n",
      "\n",
      "TRAINING CLASSIFIER\n",
      "\n",
      "Extracting features...\n",
      "100%|██████████| 2985/2985 [02:51<00:00, 17.38image/s]\n",
      "\n",
      "Training SVM...\n"
     ]
    }
   ],
   "source": [
    "train_classifier(training_set, vocabulary=\"vocabulary_SIFT_1000_50\", classifier=\"classifier_SIGMOID-SIFT_1000_50\", iterations=100, kernel= \"SVM_SIGMOID\")"
   ]
  },
  {
   "cell_type": "code",
   "execution_count": 22,
   "metadata": {},
   "outputs": [
    {
     "name": "stdout",
     "output_type": "stream",
     "text": [
      "Kernel elegido:  SVM_SIGMOID\n",
      "\n",
      "\n",
      "TRAINING CLASSIFIER\n",
      "\n",
      "Extracting features...\n",
      "100%|██████████| 2985/2985 [03:58<00:00, 12.50image/s]\n",
      "\n",
      "Training SVM...\n"
     ]
    }
   ],
   "source": [
    "train_classifier(training_set, vocabulary=\"vocabulary_KAZE_100_20\", classifier=\"classifier_SIGMOID-KAZE_100_20\", iterations=100, kernel= \"SVM_SIGMOID\")"
   ]
  },
  {
   "cell_type": "code",
   "execution_count": 23,
   "metadata": {},
   "outputs": [
    {
     "name": "stdout",
     "output_type": "stream",
     "text": [
      "Kernel elegido:  SVM_SIGMOID\n",
      "\n",
      "\n",
      "TRAINING CLASSIFIER\n",
      "\n",
      "Extracting features...\n",
      "100%|██████████| 2985/2985 [04:12<00:00, 11.82image/s]\n",
      "\n",
      "Training SVM...\n"
     ]
    }
   ],
   "source": [
    "train_classifier(training_set, vocabulary=\"vocabulary_KAZE_1000_50\", classifier=\"classifier_SIGMOID-KAZE_1000_50\", iterations=100, kernel= \"SVM_SIGMOID\")"
   ]
  },
  {
   "attachments": {},
   "cell_type": "markdown",
   "metadata": {},
   "source": [
    "#### Kernel Chi2"
   ]
  },
  {
   "cell_type": "code",
   "execution_count": 24,
   "metadata": {},
   "outputs": [
    {
     "name": "stdout",
     "output_type": "stream",
     "text": [
      "Kernel elegido:  SVM_CHI2\n",
      "\n",
      "\n",
      "TRAINING CLASSIFIER\n",
      "\n",
      "Extracting features...\n",
      "100%|██████████| 2985/2985 [01:15<00:00, 39.77image/s]\n",
      "\n",
      "Training SVM...\n"
     ]
    }
   ],
   "source": [
    "train_classifier(training_set, vocabulary=\"vocabulary_SIFT_100_20\", classifier=\"classifier_CHI2-SIFT_100_20\", iterations=100, kernel= \"SVM_CHI2\")"
   ]
  },
  {
   "cell_type": "code",
   "execution_count": 25,
   "metadata": {},
   "outputs": [
    {
     "name": "stdout",
     "output_type": "stream",
     "text": [
      "Kernel elegido:  SVM_CHI2\n",
      "\n",
      "\n",
      "TRAINING CLASSIFIER\n",
      "\n",
      "Extracting features...\n",
      "100%|██████████| 2985/2985 [02:18<00:00, 21.53image/s]\n",
      "\n",
      "Training SVM...\n"
     ]
    }
   ],
   "source": [
    "train_classifier(training_set, vocabulary=\"vocabulary_SIFT_1000_50\", classifier=\"classifier_CHI2-SIFT_1000_50\", iterations=100, kernel= \"SVM_CHI2\")"
   ]
  },
  {
   "cell_type": "code",
   "execution_count": 26,
   "metadata": {},
   "outputs": [
    {
     "name": "stdout",
     "output_type": "stream",
     "text": [
      "Kernel elegido:  SVM_CHI2\n",
      "\n",
      "\n",
      "TRAINING CLASSIFIER\n",
      "\n",
      "Extracting features...\n",
      "100%|██████████| 2985/2985 [04:00<00:00, 12.41image/s]\n",
      "\n",
      "Training SVM...\n"
     ]
    }
   ],
   "source": [
    "train_classifier(training_set, vocabulary=\"vocabulary_KAZE_100_20\", classifier=\"classifier_CHI2-KAZE_100_20\", iterations=100, kernel= \"SVM_CHI2\")"
   ]
  },
  {
   "cell_type": "code",
   "execution_count": 27,
   "metadata": {},
   "outputs": [
    {
     "name": "stdout",
     "output_type": "stream",
     "text": [
      "Kernel elegido:  SVM_CHI2\n",
      "\n",
      "\n",
      "TRAINING CLASSIFIER\n",
      "\n",
      "Extracting features...\n",
      "100%|██████████| 2985/2985 [04:07<00:00, 12.06image/s]\n",
      "\n",
      "Training SVM...\n"
     ]
    }
   ],
   "source": [
    "train_classifier(training_set, vocabulary=\"vocabulary_KAZE_1000_50\", classifier=\"classifier_CHI2-KAZE_1000_50\", iterations=100, kernel= \"SVM_CHI2\")"
   ]
  },
  {
   "attachments": {},
   "cell_type": "markdown",
   "metadata": {},
   "source": [
    "#### Kernel Inter"
   ]
  },
  {
   "cell_type": "code",
   "execution_count": 28,
   "metadata": {},
   "outputs": [
    {
     "name": "stdout",
     "output_type": "stream",
     "text": [
      "Kernel elegido:  SVM_INTER\n",
      "\n",
      "\n",
      "TRAINING CLASSIFIER\n",
      "\n",
      "Extracting features...\n",
      "100%|██████████| 2985/2985 [01:07<00:00, 44.05image/s]\n",
      "\n",
      "Training SVM...\n"
     ]
    }
   ],
   "source": [
    "train_classifier(training_set, vocabulary=\"vocabulary_SIFT_100_20\", classifier=\"classifier_INTER-SIFT_100_20\", iterations=100, kernel= \"SVM_INTER\")"
   ]
  },
  {
   "cell_type": "code",
   "execution_count": 29,
   "metadata": {},
   "outputs": [
    {
     "name": "stdout",
     "output_type": "stream",
     "text": [
      "Kernel elegido:  SVM_INTER\n",
      "\n",
      "\n",
      "TRAINING CLASSIFIER\n",
      "\n",
      "Extracting features...\n",
      "100%|██████████| 2985/2985 [02:03<00:00, 24.16image/s]\n",
      "\n",
      "Training SVM...\n"
     ]
    }
   ],
   "source": [
    "train_classifier(training_set, vocabulary=\"vocabulary_SIFT_1000_50\", classifier=\"classifier_INTER-SIFT_1000_50\", iterations=100, kernel= \"SVM_INTER\")"
   ]
  },
  {
   "cell_type": "code",
   "execution_count": 30,
   "metadata": {},
   "outputs": [
    {
     "name": "stdout",
     "output_type": "stream",
     "text": [
      "Kernel elegido:  SVM_INTER\n",
      "\n",
      "\n",
      "TRAINING CLASSIFIER\n",
      "\n",
      "Extracting features...\n",
      "100%|██████████| 2985/2985 [03:25<00:00, 14.56image/s]\n",
      "\n",
      "Training SVM...\n"
     ]
    }
   ],
   "source": [
    "train_classifier(training_set, vocabulary=\"vocabulary_KAZE_100_20\", classifier=\"classifier_INTER-KAZE_100_20\", iterations=100, kernel= \"SVM_INTER\")"
   ]
  },
  {
   "cell_type": "code",
   "execution_count": 31,
   "metadata": {},
   "outputs": [
    {
     "name": "stdout",
     "output_type": "stream",
     "text": [
      "Kernel elegido:  SVM_INTER\n",
      "\n",
      "\n",
      "TRAINING CLASSIFIER\n",
      "\n",
      "Extracting features...\n",
      "100%|██████████| 2985/2985 [03:41<00:00, 13.45image/s]\n",
      "\n",
      "Training SVM...\n"
     ]
    }
   ],
   "source": [
    "train_classifier(training_set, vocabulary=\"vocabulary_KAZE_1000_50\", classifier=\"classifier_INTER-KAZE_1000_50\", iterations=100, kernel= \"SVM_INTER\")"
   ]
  },
  {
   "attachments": {},
   "cell_type": "markdown",
   "metadata": {},
   "source": [
    "#### Segunda ronda de entrenamiento\n",
    "Elegimos los smejores 5 modelos de la ronda anterior, que han sido:\n",
    "- classifier_RBF-SIFT_1000_50 [TR_Acc= 0.893, VAL_Acc=0.538]\n",
    "- classifier_CHI2-SIFT_100_20 [TR_Acc= 0.714, VAL_Acc=0.539]\n",
    "- classifier_CHI2-SIFT_1000_50 [TR_Acc= 0.998, VAL_Acc=0.597]\n",
    "- classifier_INTER-SIFT_100_20 [TR_Acc= 0.834, VAL_Acc=0.531]\n",
    "- classifier_INTER-SIFT_1000_50 [TR_Acc= 0.995, VAL_Acc=0.598]\n",
    "\n",
    "Vamos a entrenar estos modelos con los kernels que mejor han funcionado (RBF, CHI2 y INTER), pero esta vez con los tres vocabularios nuevos, ampliados"
   ]
  },
  {
   "cell_type": "code",
   "execution_count": 7,
   "metadata": {},
   "outputs": [
    {
     "name": "stdout",
     "output_type": "stream",
     "text": [
      "Kernel elegido:  SVM_RBF\n",
      "\n",
      "\n",
      "TRAINING CLASSIFIER\n",
      "\n",
      "Extracting features...\n",
      "100%|██████████| 2985/2985 [02:52<00:00, 17.32image/s]\n",
      "\n",
      "Training SVM...\n"
     ]
    }
   ],
   "source": [
    "train_classifier(training_set, vocabulary=\"vocabulary_SIFT_2000_50\", classifier=\"classifier_RBF-SIFT_2000_50\", iterations=100, kernel= \"SVM_RBF\")"
   ]
  },
  {
   "cell_type": "code",
   "execution_count": 8,
   "metadata": {},
   "outputs": [
    {
     "name": "stdout",
     "output_type": "stream",
     "text": [
      "Kernel elegido:  SVM_RBF\n",
      "\n",
      "\n",
      "TRAINING CLASSIFIER\n",
      "\n",
      "Extracting features...\n",
      "100%|██████████| 2985/2985 [03:01<00:00, 16.41image/s]\n",
      "\n",
      "Training SVM...\n"
     ]
    }
   ],
   "source": [
    "train_classifier(training_set, vocabulary=\"vocabulary_SIFT_2000_100\", classifier=\"classifier_RBF-SIFT_2000_100\", iterations=100, kernel= \"SVM_RBF\")"
   ]
  },
  {
   "cell_type": "code",
   "execution_count": null,
   "metadata": {},
   "outputs": [],
   "source": [
    "train_classifier(training_set, vocabulary=\"vocabulary_KAZE_2000_50\", classifier=\"classifier_RBF-KAZE_2000_50\", iterations=100, kernel= \"SVM_RBF\")"
   ]
  },
  {
   "cell_type": "code",
   "execution_count": null,
   "metadata": {},
   "outputs": [],
   "source": [
    "train_classifier(training_set, vocabulary=\"vocabulary_SIFT_2000_50\", classifier=\"classifier_CHI2-SIFT_2000_50\", iterations=100, kernel= \"SVM_CHI2\")"
   ]
  },
  {
   "cell_type": "code",
   "execution_count": null,
   "metadata": {},
   "outputs": [],
   "source": [
    "train_classifier(training_set, vocabulary=\"vocabulary_SIFT_2000_100\", classifier=\"classifier_CHI2-SIFT_2000_100\", iterations=100, kernel= \"SVM_CHI2\")"
   ]
  },
  {
   "cell_type": "code",
   "execution_count": null,
   "metadata": {},
   "outputs": [],
   "source": [
    "train_classifier(training_set, vocabulary=\"vocabulary_KAZE_2000_50\", classifier=\"classifier_CHI2-KAZE_2000_50\", iterations=100, kernel= \"SVM_CHI2\")"
   ]
  },
  {
   "cell_type": "code",
   "execution_count": null,
   "metadata": {},
   "outputs": [],
   "source": [
    "train_classifier(training_set, vocabulary=\"vocabulary_SIFT_2000_50\", classifier=\"classifier_INTER-SIFT_2000_50\", iterations=100, kernel= \"SVM_INTER\")"
   ]
  },
  {
   "cell_type": "code",
   "execution_count": null,
   "metadata": {},
   "outputs": [],
   "source": [
    "train_classifier(training_set, vocabulary=\"vocabulary_SIFT_2000_100\", classifier=\"classifier_INTER-SIFT_2000_100\", iterations=100, kernel= \"SVM_INTER\")"
   ]
  },
  {
   "cell_type": "code",
   "execution_count": null,
   "metadata": {},
   "outputs": [],
   "source": [
    "train_classifier(training_set, vocabulary=\"vocabulary_KAZE_2000_50\", classifier=\"classifier_INTER-KAZE_2000_50\", iterations=100, kernel= \"SVM_INTER\")"
   ]
  },
  {
   "attachments": {},
   "cell_type": "markdown",
   "metadata": {},
   "source": [
    "### Perform inference on the training set"
   ]
  },
  {
   "cell_type": "code",
   "execution_count": 35,
   "metadata": {},
   "outputs": [
    {
     "name": "stdout",
     "output_type": "stream",
     "text": [
      "\n",
      "\n",
      "CLASSIFICATION RESULTS (TRAINING_LINEAR-SIFT_100_20)\n",
      "\n",
      "Confusion matrix\n",
      "\n",
      "KNOWN/PREDICTED  Bedroom  Coast  Forest  Highway  Industrial  Inside city  Kitchen  Living room  Mountain  Office  Open country  Store  Street  Suburb  Tall building\n",
      "Bedroom             25.0    1.0     1.0      0.0        17.0          5.0      1.0         31.0       2.0     3.0           9.0   10.0     3.0     2.0            6.0\n",
      "Coast                2.0  181.0     8.0      8.0         4.0          1.0      0.0          0.0      20.0     0.0          20.0    0.0     2.0     6.0            8.0\n",
      "Forest               0.0    0.0   205.0      0.0         2.0          0.0      0.0          0.0       9.0     0.0          10.0    1.0     1.0     0.0            0.0\n",
      "Highway              0.0   32.0     0.0     65.0        10.0          5.0      1.0          1.0       9.0     0.0           7.0    3.0     8.0     8.0           11.0\n",
      "Industrial           4.0    5.0     0.0      3.0       103.0         14.0      2.0          9.0      11.0     3.0           5.0   19.0    10.0     7.0           16.0\n",
      "Inside city          2.0    1.0     0.0      3.0        17.0        135.0      1.0          6.0       0.0     0.0           2.0   11.0     9.0     2.0           19.0\n",
      "Kitchen              8.0    1.0     0.0      0.0        17.0         24.0     18.0         24.0       0.0     7.0           0.0    4.0     1.0     3.0            3.0\n",
      "Living room          3.0    1.0     0.0      0.0        19.0         11.0      4.0        107.0       1.0     8.0           1.0   15.0     6.0     8.0            5.0\n",
      "Mountain             0.0   24.0    19.0      0.0         1.0          0.0      0.0          2.0     200.0     0.0          20.0    1.0     3.0     3.0            1.0\n",
      "Office               5.0    0.0     0.0      0.0        13.0         16.0      6.0         28.0       0.0    38.0           0.0    3.0     2.0     4.0            0.0\n",
      "Open country         0.0   68.0    27.0      3.0         1.0          0.0      0.0          0.0      42.0     0.0         158.0    1.0     1.0     7.0            2.0\n",
      "Store                1.0    1.0     8.0      0.0        22.0          5.0      0.0         16.0       0.0     0.0           1.0  141.0    11.0     2.0            7.0\n",
      "Street               1.0    2.0     0.0      2.0        26.0          9.0      0.0          4.0       9.0     0.0           7.0    5.0   107.0     2.0           18.0\n",
      "Suburb               0.0    0.0     3.0      2.0         4.0          0.0      0.0          3.0       5.0     1.0           5.0    4.0     1.0   111.0            2.0\n",
      "Tall building        1.0    5.0     1.0      7.0        20.0         17.0      0.0          5.0       4.0     1.0           9.0    7.0     6.0     6.0          167.0\n",
      "\n",
      "Accuracy:  0.5899497487437186\n"
     ]
    }
   ],
   "source": [
    "\"\"\"\n",
    "Perform inference on a dataset.\n",
    "\n",
    "Args:\n",
    "    dataset: Paths to the images.\n",
    "    dataset_name: Dataset descriptive name.\n",
    "    vocabulary: Relative path to the vocabulary file (without extension).\n",
    "    classifier: Relative path to the classifier file (without extension).\n",
    "\n",
    "\"\"\"\n",
    "predict(training_set, \"Training_LINEAR-SIFT_100_20\", vocabulary=\"vocabulary_SIFT_100_20\",  classifier=\"classifier_LINEAR-SIFT_100_20\")"
   ]
  },
  {
   "cell_type": "code",
   "execution_count": 36,
   "metadata": {},
   "outputs": [
    {
     "name": "stdout",
     "output_type": "stream",
     "text": [
      "\n",
      "\n",
      "CLASSIFICATION RESULTS (TRAINING_LINEAR-SIFT_1000_20)\n",
      "\n",
      "Confusion matrix\n",
      "\n",
      "KNOWN/PREDICTED  Bedroom  Coast  Forest  Highway  Industrial  Inside city  Kitchen  Living room  Mountain  Office  Open country  Store  Street  Suburb  Tall building\n",
      "Bedroom            105.0    0.0     2.0      0.0         1.0          0.0      0.0          3.0       0.0     1.0           0.0    2.0     1.0     0.0            1.0\n",
      "Coast                0.0  175.0     5.0      3.0         0.0          0.0      1.0          0.0      24.0     0.0          50.0    0.0     0.0     1.0            1.0\n",
      "Forest               0.0    0.0   227.0      0.0         0.0          0.0      0.0          0.0       0.0     0.0           1.0    0.0     0.0     0.0            0.0\n",
      "Highway              0.0    2.0     1.0    152.0         1.0          1.0      0.0          0.0       1.0     0.0           0.0    1.0     1.0     0.0            0.0\n",
      "Industrial           0.0    0.0     0.0      1.0       164.0          4.0      2.0          3.0       1.0     0.0           1.0   29.0     3.0     1.0            2.0\n",
      "Inside city          0.0    0.0     0.0      0.0         4.0        185.0      0.0          2.0       0.0     0.0           0.0   10.0     3.0     0.0            4.0\n",
      "Kitchen              1.0    0.0     0.0      0.0         0.0          4.0     97.0          2.0       0.0     0.0           0.0    5.0     0.0     1.0            0.0\n",
      "Living room          2.0    0.0     0.0      0.0         2.0          3.0      2.0        172.0       1.0     0.0           0.0    7.0     0.0     0.0            0.0\n",
      "Mountain             0.0    1.0    11.0      2.0         1.0          0.0      0.0          0.0     244.0     0.0          15.0    0.0     0.0     0.0            0.0\n",
      "Office               0.0    0.0     0.0      0.0         2.0          0.0      0.0          2.0       0.0   111.0           0.0    0.0     0.0     0.0            0.0\n",
      "Open country         0.0   15.0    13.0      1.0         1.0          0.0      0.0          1.0      19.0     0.0         260.0    0.0     0.0     0.0            0.0\n",
      "Store                1.0    0.0     2.0      0.0         1.0          4.0      1.0          2.0       0.0     0.0           0.0  202.0     2.0     0.0            0.0\n",
      "Street               0.0    1.0     0.0      0.0         3.0          3.0      0.0          1.0       0.0     0.0           0.0    4.0   178.0     0.0            2.0\n",
      "Suburb               0.0    0.0     1.0      0.0         0.0          0.0      0.0          1.0       0.0     0.0           0.0    0.0     0.0   139.0            0.0\n",
      "Tall building        0.0    0.0     1.0      0.0         1.0          4.0      0.0          0.0       0.0     0.0           2.0   10.0     5.0     1.0          232.0\n",
      "\n",
      "Accuracy:  0.8854271356783919\n"
     ]
    }
   ],
   "source": [
    "predict(training_set, \"Training_LINEAR-SIFT_1000_50\", vocabulary=\"vocabulary_SIFT_1000_50\", classifier=\"classifier_LINEAR-SIFT_1000_50\")"
   ]
  },
  {
   "cell_type": "code",
   "execution_count": 37,
   "metadata": {},
   "outputs": [
    {
     "name": "stdout",
     "output_type": "stream",
     "text": [
      "\n",
      "\n",
      "CLASSIFICATION RESULTS (TRAINING_LINEAR-KAZE_100_20)\n",
      "\n",
      "Confusion matrix\n",
      "\n",
      "KNOWN/PREDICTED  Bedroom  Coast  Forest  Highway  Industrial  Inside city  Kitchen  Living room  Mountain  Office  Open country  Store  Street  Suburb  Tall building\n",
      "Bedroom             36.0    2.0     3.0      0.0        10.0          8.0      1.0         22.0       4.0     4.0           4.0    4.0     0.0     1.0           17.0\n",
      "Coast                3.0  165.0     9.0     13.0         6.0          0.0      0.0          5.0      11.0     2.0          34.0    1.0     2.0     1.0            8.0\n",
      "Forest               1.0    0.0   178.0      0.0         4.0          3.0      0.0          2.0      13.0     0.0           7.0   14.0     4.0     1.0            1.0\n",
      "Highway              0.0   27.0     2.0     86.0         4.0          4.0      0.0          1.0       8.0     0.0          13.0    2.0     5.0     2.0            6.0\n",
      "Industrial           4.0   17.0     8.0      6.0        71.0         13.0      2.0          8.0      10.0     0.0          17.0   20.0     7.0    10.0           18.0\n",
      "Inside city          7.0    7.0    13.0      2.0         7.0        106.0      0.0         13.0       4.0     1.0          10.0   24.0     6.0     2.0            6.0\n",
      "Kitchen              9.0    2.0     0.0      2.0        14.0         24.0      8.0         23.0       2.0     5.0           0.0    4.0     2.0     4.0           11.0\n",
      "Living room         10.0    1.0     4.0      0.0        11.0         17.0      0.0        120.0       1.0     4.0           0.0    6.0     2.0     2.0           11.0\n",
      "Mountain             0.0   32.0    22.0      4.0         7.0          1.0      0.0          4.0     140.0     0.0          39.0    4.0    10.0     1.0           10.0\n",
      "Office               8.0    5.0     1.0      0.0         2.0         14.0      0.0         27.0       4.0    30.0           1.0    5.0     1.0     4.0           13.0\n",
      "Open country         0.0   68.0    30.0     10.0         6.0          3.0      0.0          0.0      39.0     1.0         120.0    9.0     8.0     7.0            9.0\n",
      "Store                0.0    4.0    30.0      0.0         7.0         10.0      0.0         11.0       2.0     1.0           0.0  137.0     2.0     1.0           10.0\n",
      "Street               0.0    0.0    14.0      1.0        16.0          6.0      0.0          6.0      17.0     0.0          14.0   11.0    98.0     4.0            5.0\n",
      "Suburb               0.0    1.0     4.0      0.0        14.0          7.0      0.0         13.0       7.0     0.0           8.0    4.0     7.0    65.0           11.0\n",
      "Tall building        4.0   23.0    15.0      1.0         5.0         16.0      0.0         17.0      12.0     2.0          15.0   19.0     2.0     2.0          123.0\n",
      "\n",
      "Accuracy:  0.4968174204355109\n"
     ]
    }
   ],
   "source": [
    "predict(training_set, \"Training_LINEAR-KAZE_100_20\", vocabulary=\"vocabulary_KAZE_100_20\",  classifier=\"classifier_LINEAR-KAZE_100_20\")"
   ]
  },
  {
   "cell_type": "code",
   "execution_count": 38,
   "metadata": {},
   "outputs": [
    {
     "name": "stdout",
     "output_type": "stream",
     "text": [
      "\n",
      "\n",
      "CLASSIFICATION RESULTS (TRAINING_LINEAR-KAZE_1000_50)\n",
      "\n",
      "Confusion matrix\n",
      "\n",
      "KNOWN/PREDICTED  Bedroom  Coast  Forest  Highway  Industrial  Inside city  Kitchen  Living room  Mountain  Office  Open country  Store  Street  Suburb  Tall building\n",
      "Bedroom             65.0    3.0     2.0      0.0         6.0          3.0      1.0         11.0       5.0     2.0           0.0    3.0     3.0     1.0           11.0\n",
      "Coast                2.0  198.0     7.0      4.0         0.0          0.0      1.0          0.0      12.0     2.0          31.0    0.0     0.0     1.0            2.0\n",
      "Forest               0.0    0.0   208.0      0.0         4.0          0.0      0.0          1.0       4.0     1.0           4.0    5.0     1.0     0.0            0.0\n",
      "Highway              0.0   26.0     0.0     95.0         6.0          1.0      0.0          2.0       2.0     0.0          10.0    2.0     7.0     1.0            8.0\n",
      "Industrial           1.0    6.0     4.0      3.0       139.0          6.0      0.0         10.0       7.0     0.0           8.0   14.0     3.0     3.0            7.0\n",
      "Inside city          0.0    8.0     3.0      0.0         7.0        155.0      0.0          4.0       1.0     0.0           3.0   15.0     2.0     0.0           10.0\n",
      "Kitchen              3.0    3.0     0.0      1.0        11.0          4.0     55.0         12.0       1.0     2.0           1.0    3.0     1.0     3.0           10.0\n",
      "Living room          2.0    2.0     3.0      0.0         3.0          6.0      2.0        164.0       0.0     1.0           0.0    2.0     0.0     1.0            3.0\n",
      "Mountain             0.0   14.0    11.0      2.0         4.0          0.0      0.0          1.0     220.0     0.0          17.0    2.0     2.0     0.0            1.0\n",
      "Office               2.0    3.0     0.0      0.0         2.0          6.0      1.0         19.0       1.0    66.0           1.0    4.0     0.0     1.0            9.0\n",
      "Open country         0.0   39.0    17.0      7.0         2.0          0.0      0.0          0.0      13.0     1.0         222.0    2.0     2.0     0.0            5.0\n",
      "Store                0.0    4.0     8.0      0.0         0.0          3.0      0.0          9.0       2.0     1.0           1.0  173.0     1.0     2.0           11.0\n",
      "Street               0.0    3.0     5.0      0.0         7.0          0.0      0.0          3.0       5.0     0.0           4.0   14.0   147.0     0.0            4.0\n",
      "Suburb               0.0    1.0     8.0      0.0         7.0          2.0      0.0          4.0       2.0     0.0           4.0    6.0     1.0    96.0           10.0\n",
      "Tall building        1.0   17.0     8.0      0.0         4.0          5.0      1.0          3.0       2.0     0.0           4.0    6.0     2.0     0.0          203.0\n",
      "\n",
      "Accuracy:  0.7390284757118928\n"
     ]
    }
   ],
   "source": [
    "predict(training_set, \"Training_LINEAR-KAZE_1000_50\", vocabulary=\"vocabulary_KAZE_1000_50\", classifier=\"classifier_LINEAR-KAZE_1000_50\")"
   ]
  },
  {
   "cell_type": "code",
   "execution_count": 39,
   "metadata": {},
   "outputs": [
    {
     "name": "stdout",
     "output_type": "stream",
     "text": [
      "\n",
      "\n",
      "CLASSIFICATION RESULTS (TRAINING_RBF-SIFT_100_20)\n",
      "\n",
      "Confusion matrix\n",
      "\n",
      "KNOWN/PREDICTED  Bedroom  Coast  Forest  Highway  Industrial  Inside city  Kitchen  Living room  Mountain  Office  Open country  Store  Street  Suburb  Tall building\n",
      "Bedroom             25.0    2.0     1.0      0.0        14.0          5.0      1.0         32.0       2.0     3.0           9.0   10.0     4.0     2.0            6.0\n",
      "Coast                2.0  187.0     8.0      7.0         3.0          1.0      0.0          0.0      17.0     0.0          17.0    0.0     4.0     6.0            8.0\n",
      "Forest               0.0    0.0   206.0      0.0         2.0          0.0      0.0          0.0       8.0     0.0          10.0    1.0     1.0     0.0            0.0\n",
      "Highway              0.0   32.0     0.0     60.0        12.0          6.0      1.0          0.0       8.0     0.0          10.0    3.0     7.0     8.0           13.0\n",
      "Industrial           5.0    4.0     1.0      3.0        93.0         21.0      2.0         10.0       9.0     3.0           4.0   19.0    13.0     7.0           17.0\n",
      "Inside city          2.0    2.0     0.0      3.0        12.0        139.0      1.0          5.0       0.0     0.0           2.0   11.0    10.0     2.0           19.0\n",
      "Kitchen              9.0    0.0     0.0      0.0        15.0         30.0     18.0         22.0       0.0     8.0           0.0    4.0     1.0     3.0            0.0\n",
      "Living room          3.0    1.0     0.0      0.0        13.0         13.0      5.0        110.0       1.0     8.0           1.0   16.0     6.0     8.0            4.0\n",
      "Mountain             0.0   21.0    19.0      0.0         1.0          0.0      0.0          2.0     192.0     0.0          30.0    1.0     4.0     3.0            1.0\n",
      "Office               5.0    0.0     0.0      0.0        13.0         16.0      5.0         28.0       0.0    41.0           0.0    2.0     1.0     4.0            0.0\n",
      "Open country         0.0   59.0    29.0      3.0         1.0          0.0      0.0          0.0      30.0     0.0         177.0    1.0     1.0     7.0            2.0\n",
      "Store                1.0    1.0     7.0      0.0        14.0         11.0      0.0         18.0       0.0     0.0           1.0  141.0    13.0     2.0            6.0\n",
      "Street               0.0    5.0     0.0      2.0        19.0         10.0      0.0          6.0       5.0     0.0           6.0    6.0   112.0     2.0           19.0\n",
      "Suburb               0.0    0.0     3.0      2.0         4.0          0.0      0.0          3.0       4.0     1.0           5.0    4.0     0.0   112.0            3.0\n",
      "Tall building        1.0    9.0     2.0      5.0        19.0         19.0      0.0          4.0       3.0     1.0           7.0    7.0     5.0     6.0          168.0\n",
      "\n",
      "Accuracy:  0.5966499162479062\n"
     ]
    }
   ],
   "source": [
    "predict(training_set, \"Training_RBF-SIFT_100_20\", vocabulary=\"vocabulary_SIFT_100_20\",  classifier=\"classifier_RBF-SIFT_100_20\")"
   ]
  },
  {
   "cell_type": "code",
   "execution_count": 40,
   "metadata": {},
   "outputs": [
    {
     "name": "stdout",
     "output_type": "stream",
     "text": [
      "\n",
      "\n",
      "CLASSIFICATION RESULTS (TRAINING_RBF-SIFT_1000_20)\n",
      "\n",
      "Confusion matrix\n",
      "\n",
      "KNOWN/PREDICTED  Bedroom  Coast  Forest  Highway  Industrial  Inside city  Kitchen  Living room  Mountain  Office  Open country  Store  Street  Suburb  Tall building\n",
      "Bedroom            100.0    0.0     1.0      0.0         1.0          1.0      0.0          8.0       0.0     0.0           0.0    3.0     1.0     0.0            1.0\n",
      "Coast                0.0  191.0     2.0      1.0         0.0          0.0      0.0          0.0       4.0     0.0          62.0    0.0     0.0     0.0            0.0\n",
      "Forest               0.0    0.0   227.0      0.0         0.0          0.0      0.0          0.0       0.0     0.0           1.0    0.0     0.0     0.0            0.0\n",
      "Highway              0.0    0.0     1.0    153.0         1.0          1.0      0.0          0.0       1.0     0.0           0.0    1.0     1.0     0.0            1.0\n",
      "Industrial           0.0    0.0     0.0      0.0       167.0          4.0      2.0          4.0       1.0     1.0           0.0   12.0    17.0     1.0            2.0\n",
      "Inside city          1.0    0.0     0.0      0.0         2.0        185.0      0.0          2.0       0.0     0.0           0.0   11.0     3.0     0.0            4.0\n",
      "Kitchen              1.0    0.0     0.0      0.0         1.0          2.0    100.0          1.0       0.0     0.0           0.0    4.0     0.0     1.0            0.0\n",
      "Living room          1.0    0.0     0.0      0.0         1.0          3.0      2.0        177.0       1.0     0.0           0.0    4.0     0.0     0.0            0.0\n",
      "Mountain             0.0    8.0    10.0      2.0         2.0          0.0      0.0          0.0     250.0     0.0           2.0    0.0     0.0     0.0            0.0\n",
      "Office               0.0    0.0     0.0      0.0         2.0          0.0      0.0          3.0       0.0   110.0           0.0    0.0     0.0     0.0            0.0\n",
      "Open country         0.0   17.0    15.0      1.0         1.0          0.0      0.0          0.0      27.0     0.0         248.0    0.0     1.0     0.0            0.0\n",
      "Store                1.0    0.0     2.0      0.0         0.0          5.0      1.0          2.0       0.0     0.0           0.0  198.0     6.0     0.0            0.0\n",
      "Street               0.0    0.0     0.0      0.0         1.0          3.0      0.0          2.0       0.0     0.0           0.0    1.0   185.0     0.0            0.0\n",
      "Suburb               0.0    0.0     1.0      0.0         0.0          0.0      0.0          0.0       0.0     0.0           0.0    0.0     0.0   140.0            0.0\n",
      "Tall building        0.0    0.0     1.0      0.0         4.0          5.0      1.0          1.0       0.0     0.0           1.0    3.0     5.0     1.0          234.0\n",
      "\n",
      "Accuracy:  0.8927973199329984\n"
     ]
    }
   ],
   "source": [
    "predict(training_set, \"Training_RBF-SIFT_1000_50\", vocabulary=\"vocabulary_SIFT_1000_50\", classifier=\"classifier_RBF-SIFT_1000_50\")"
   ]
  },
  {
   "cell_type": "code",
   "execution_count": 41,
   "metadata": {},
   "outputs": [
    {
     "name": "stdout",
     "output_type": "stream",
     "text": [
      "\n",
      "\n",
      "CLASSIFICATION RESULTS (TRAINING_RBF-KAZE_100_20)\n",
      "\n",
      "Confusion matrix\n",
      "\n",
      "KNOWN/PREDICTED  Bedroom  Coast  Forest  Highway  Industrial  Inside city  Kitchen  Living room  Mountain  Office  Open country  Store  Street  Suburb  Tall building\n",
      "Bedroom             38.0    0.0     3.0      0.0        17.0          6.0      0.0         19.0       3.0     4.0           2.0    4.0     0.0     2.0           18.0\n",
      "Coast                4.0  182.0     8.0     10.0         7.0          1.0      0.0          2.0       9.0     2.0          30.0    1.0     1.0     0.0            3.0\n",
      "Forest               1.0    1.0   169.0      0.0         4.0          2.0      0.0          3.0      15.0     0.0           7.0   19.0     5.0     0.0            2.0\n",
      "Highway              0.0   20.0     2.0     87.0         5.0          3.0      0.0          1.0       7.0     0.0          17.0    3.0     7.0     2.0            6.0\n",
      "Industrial           4.0    4.0     7.0      9.0        88.0          9.0      2.0         10.0       7.0     0.0          12.0   25.0    11.0     6.0           17.0\n",
      "Inside city          5.0    5.0    10.0      2.0        13.0        107.0      0.0         14.0       4.0     0.0           5.0   29.0     6.0     2.0            6.0\n",
      "Kitchen             10.0    2.0     0.0      2.0        17.0         21.0      5.0         24.0       0.0     6.0           0.0    6.0     2.0     3.0           12.0\n",
      "Living room          9.0    1.0     3.0      0.0        14.0         11.0      0.0        121.0       2.0     4.0           0.0    9.0     4.0     2.0            9.0\n",
      "Mountain             1.0   31.0    18.0      2.0        14.0          0.0      0.0          3.0     125.0     0.0          52.0    7.0    10.0     2.0            9.0\n",
      "Office               8.0    0.0     0.0      0.0        12.0          9.0      2.0         29.0       3.0    26.0           2.0    6.0     1.0     4.0           13.0\n",
      "Open country         0.0   57.0    25.0     12.0         7.0          5.0      0.0          0.0      27.0     1.0         143.0    9.0     8.0     6.0           10.0\n",
      "Store                0.0    4.0    17.0      0.0         6.0          9.0      0.0          9.0       2.0     1.0           0.0  154.0     2.0     1.0           10.0\n",
      "Street               0.0    0.0    13.0      0.0        19.0          7.0      0.0          4.0       5.0     0.0           9.0   13.0   111.0     3.0            8.0\n",
      "Suburb               0.0    1.0     2.0      0.0        20.0          6.0      0.0         15.0       4.0     0.0           5.0    5.0     7.0    65.0           11.0\n",
      "Tall building        5.0   27.0    13.0      1.0        11.0          8.0      0.0         18.0       7.0     1.0          20.0   18.0     3.0     2.0          122.0\n",
      "\n",
      "Accuracy:  0.5169179229480737\n"
     ]
    }
   ],
   "source": [
    "predict(training_set, \"Training_RBF-KAZE_100_20\", vocabulary=\"vocabulary_KAZE_100_20\",  classifier=\"classifier_RBF-KAZE_100_20\")"
   ]
  },
  {
   "cell_type": "code",
   "execution_count": 42,
   "metadata": {},
   "outputs": [
    {
     "name": "stdout",
     "output_type": "stream",
     "text": [
      "\n",
      "\n",
      "CLASSIFICATION RESULTS (TRAINING_RBF-KAZE_1000_50)\n",
      "\n",
      "Confusion matrix\n",
      "\n",
      "KNOWN/PREDICTED  Bedroom  Coast  Forest  Highway  Industrial  Inside city  Kitchen  Living room  Mountain  Office  Open country  Store  Street  Suburb  Tall building\n",
      "Bedroom             70.0    1.0     3.0      0.0         8.0          3.0      2.0          8.0       3.0     1.0           0.0    4.0     1.0     2.0           10.0\n",
      "Coast                2.0  214.0     4.0      2.0         2.0          0.0      0.0          0.0      10.0     0.0          18.0    1.0     1.0     2.0            4.0\n",
      "Forest               0.0    0.0   205.0      0.0         4.0          0.0      0.0          0.0       7.0     1.0           4.0    6.0     1.0     0.0            0.0\n",
      "Highway              0.0   17.0     0.0    102.0         6.0          4.0      0.0          2.0       3.0     0.0          10.0    3.0     7.0     1.0            5.0\n",
      "Industrial           1.0    3.0     4.0      3.0       144.0          6.0      1.0          8.0       6.0     0.0           8.0   15.0     4.0     2.0            6.0\n",
      "Inside city          0.0    6.0     2.0      0.0         6.0        162.0      0.0          5.0       2.0     0.0           2.0   14.0     2.0     0.0            7.0\n",
      "Kitchen              5.0    1.0     0.0      1.0         9.0          5.0     54.0         14.0       2.0     2.0           0.0    4.0     2.0     2.0            9.0\n",
      "Living room          3.0    1.0     2.0      0.0         3.0          7.0      1.0        161.0       0.0     1.0           0.0    5.0     0.0     1.0            4.0\n",
      "Mountain             0.0    6.0    15.0      2.0         6.0          0.0      0.0          1.0     221.0     0.0          19.0    2.0     2.0     0.0            0.0\n",
      "Office               2.0    1.0     0.0      0.0         5.0          6.0      1.0         16.0       2.0    69.0           2.0    4.0     0.0     0.0            7.0\n",
      "Open country         0.0   29.0    14.0      6.0         2.0          0.0      0.0          0.0      10.0     0.0         241.0    3.0     3.0     0.0            2.0\n",
      "Store                0.0    2.0     8.0      0.0         3.0          2.0      0.0          6.0       2.0     1.0           1.0  182.0     1.0     2.0            5.0\n",
      "Street               0.0    1.0     4.0      1.0         6.0          3.0      0.0          2.0       5.0     0.0           4.0   14.0   150.0     0.0            2.0\n",
      "Suburb               0.0    0.0     7.0      0.0        10.0          2.0      0.0          4.0       1.0     0.0           2.0    8.0     1.0    97.0            9.0\n",
      "Tall building        1.0    7.0     7.0      1.0         3.0          6.0      1.0          2.0       3.0     0.0           3.0    9.0     2.0     4.0          207.0\n",
      "\n",
      "Accuracy:  0.7634840871021775\n"
     ]
    }
   ],
   "source": [
    "predict(training_set, \"Training_RBF-KAZE_1000_50\", vocabulary=\"vocabulary_KAZE_1000_50\", classifier=\"classifier_RBF-KAZE_1000_50\")"
   ]
  },
  {
   "cell_type": "code",
   "execution_count": 43,
   "metadata": {},
   "outputs": [
    {
     "name": "stdout",
     "output_type": "stream",
     "text": [
      "\n",
      "\n",
      "CLASSIFICATION RESULTS (TRAINING_SIGMOID-SIFT_100_20)\n",
      "\n",
      "Confusion matrix\n",
      "\n",
      "KNOWN/PREDICTED  Bedroom  Coast  Forest  Highway  Industrial  Inside city  Kitchen  Living room  Mountain  Office  Open country  Store  Street  Suburb  Tall building\n",
      "Bedroom             22.0    3.0     1.0      0.0        15.0          5.0      2.0         30.0       2.0     3.0          10.0   10.0     5.0     2.0            6.0\n",
      "Coast                2.0  182.0     8.0     15.0         2.0          1.0      0.0          0.0      18.0     0.0          17.0    0.0     3.0     5.0            7.0\n",
      "Forest               0.0    0.0   205.0      0.0         2.0          0.0      0.0          0.0       9.0     0.0          10.0    1.0     1.0     0.0            0.0\n",
      "Highway              0.0   30.0     0.0     67.0         8.0          5.0      1.0          1.0       6.0     0.0          11.0    3.0     9.0     8.0           11.0\n",
      "Industrial           4.0    4.0     1.0      3.0       101.0         14.0      2.0          9.0      10.0     3.0           4.0   17.0    15.0     7.0           17.0\n",
      "Inside city          2.0    1.0     0.0      4.0        15.0        131.0      1.0          6.0       0.0     0.0           3.0   13.0     7.0     2.0           23.0\n",
      "Kitchen              7.0    1.0     0.0      0.0        17.0         27.0     16.0         24.0       0.0     7.0           0.0    4.0     1.0     3.0            3.0\n",
      "Living room          3.0    1.0     0.0      0.0        18.0         11.0      4.0        107.0       1.0     8.0           1.0   16.0     6.0     8.0            5.0\n",
      "Mountain             0.0   26.0    19.0      0.0         1.0          0.0      0.0          2.0     197.0     0.0          21.0    1.0     3.0     3.0            1.0\n",
      "Office               5.0    0.0     0.0      0.0        13.0         16.0      6.0         28.0       0.0    38.0           0.0    3.0     3.0     3.0            0.0\n",
      "Open country         1.0   68.0    28.0      3.0         1.0          0.0      0.0          0.0      37.0     0.0         162.0    1.0     1.0     7.0            1.0\n",
      "Store                1.0    1.0     8.0      0.0        21.0          5.0      0.0         16.0       0.0     0.0           1.0  145.0     8.0     2.0            7.0\n",
      "Street               1.0    2.0     0.0      2.0        25.0          9.0      0.0          5.0       7.0     0.0           9.0    7.0   104.0     2.0           19.0\n",
      "Suburb               0.0    0.0     3.0      2.0         4.0          0.0      0.0          3.0       5.0     1.0           4.0    4.0     0.0   112.0            3.0\n",
      "Tall building        1.0    7.0     1.0      7.0        20.0         16.0      0.0          5.0       3.0     1.0           9.0    6.0     6.0     7.0          167.0\n",
      "\n",
      "Accuracy:  0.5882747068676717\n"
     ]
    }
   ],
   "source": [
    "predict(training_set, \"Training_SIGMOID-SIFT_100_20\", vocabulary=\"vocabulary_SIFT_100_20\",  classifier=\"classifier_SIGMOID-SIFT_100_20\")"
   ]
  },
  {
   "cell_type": "code",
   "execution_count": 44,
   "metadata": {},
   "outputs": [
    {
     "name": "stdout",
     "output_type": "stream",
     "text": [
      "\n",
      "\n",
      "CLASSIFICATION RESULTS (TRAINING_SIGMOID-SIFT_1000_20)\n",
      "\n",
      "Confusion matrix\n",
      "\n",
      "KNOWN/PREDICTED  Bedroom  Coast  Forest  Highway  Industrial  Inside city  Kitchen  Living room  Mountain  Office  Open country  Store  Street  Suburb  Tall building\n",
      "Bedroom             77.0    0.0     0.0      0.0         3.0          2.0      0.0         21.0       2.0     1.0           2.0    2.0     3.0     1.0            2.0\n",
      "Coast                0.0  185.0     3.0      3.0         0.0          2.0      0.0          0.0      16.0     0.0          47.0    0.0     0.0     3.0            1.0\n",
      "Forest               0.0    0.0   222.0      0.0         0.0          0.0      0.0          0.0       2.0     0.0           3.0    1.0     0.0     0.0            0.0\n",
      "Highway              0.0    6.0     1.0    140.0         0.0          3.0      0.0          1.0       3.0     0.0           0.0    1.0     4.0     0.0            1.0\n",
      "Industrial           2.0    1.0     0.0      2.0       140.0          7.0      2.0          9.0       4.0     0.0           1.0    0.0    39.0     2.0            2.0\n",
      "Inside city          1.0    0.0     0.0      3.0         6.0        180.0      0.0          5.0       0.0     0.0           1.0    2.0     5.0     0.0            5.0\n",
      "Kitchen              3.0    0.0     0.0      0.0         5.0          8.0     83.0          5.0       0.0     0.0           0.0    2.0     1.0     2.0            1.0\n",
      "Living room          1.0    0.0     0.0      0.0         1.0          4.0      5.0        172.0       1.0     0.0           0.0    2.0     2.0     1.0            0.0\n",
      "Mountain             0.0    1.0     9.0      1.0         0.0          0.0      0.0          0.0     258.0     0.0           4.0    0.0     0.0     0.0            1.0\n",
      "Office               0.0    0.0     0.0      0.0         2.0          2.0      2.0         12.0       0.0    96.0           0.0    0.0     1.0     0.0            0.0\n",
      "Open country         0.0    6.0     9.0      2.0         1.0          0.0      0.0          0.0      29.0     0.0         259.0    1.0     0.0     2.0            1.0\n",
      "Store                0.0    0.0    12.0      0.0        52.0         12.0      1.0         35.0       9.0     3.0           0.0   84.0     7.0     0.0            0.0\n",
      "Street               0.0    0.0     0.0      0.0         4.0          4.0      0.0          2.0       2.0     0.0           0.0    1.0   177.0     0.0            2.0\n",
      "Suburb               0.0    0.0     2.0      0.0         1.0          0.0      0.0          2.0       3.0     0.0           0.0    1.0     1.0   131.0            0.0\n",
      "Tall building        0.0    1.0     2.0      1.0        18.0         15.0      0.0          9.0       0.0     0.0           4.0    2.0     8.0     3.0          193.0\n",
      "\n",
      "Accuracy:  0.8030150753768844\n"
     ]
    }
   ],
   "source": [
    "predict(training_set, \"Training_SIGMOID-SIFT_1000_50\", vocabulary=\"vocabulary_SIFT_1000_50\", classifier=\"classifier_SIGMOID-SIFT_1000_50\")"
   ]
  },
  {
   "cell_type": "code",
   "execution_count": 45,
   "metadata": {},
   "outputs": [
    {
     "name": "stdout",
     "output_type": "stream",
     "text": [
      "\n",
      "\n",
      "CLASSIFICATION RESULTS (TRAINING_SIGMOID-KAZE_100_20)\n",
      "\n",
      "Confusion matrix\n",
      "\n",
      "KNOWN/PREDICTED  Bedroom  Coast  Forest  Highway  Industrial  Inside city  Kitchen  Living room  Mountain  Office  Open country  Store  Street  Suburb  Tall building\n",
      "Bedroom             39.0    2.0     3.0      0.0        14.0          6.0      0.0         20.0       3.0     4.0           5.0    4.0     1.0     1.0           14.0\n",
      "Coast                5.0  172.0     9.0      8.0         7.0          1.0      0.0          5.0      17.0     2.0          27.0    0.0     0.0     0.0            7.0\n",
      "Forest               1.0    0.0   172.0      0.0         3.0          3.0      0.0          2.0      19.0     0.0           3.0   20.0     4.0     0.0            1.0\n",
      "Highway              0.0   30.0     1.0     79.0         4.0          5.0      0.0          1.0       6.0     0.0          15.0    0.0    10.0     2.0            7.0\n",
      "Industrial           5.0   15.0     8.0      6.0        91.0         12.0      2.0          9.0       8.0     0.0           7.0   18.0    11.0     5.0           14.0\n",
      "Inside city          6.0   10.0     9.0      1.0         9.0        110.0      0.0         14.0       3.0     2.0           4.0   20.0     6.0     1.0           13.0\n",
      "Kitchen              9.0    2.0     0.0      2.0        12.0         23.0      5.0         27.0       1.0     6.0           0.0    5.0     1.0     4.0           13.0\n",
      "Living room          9.0    1.0     3.0      0.0         9.0         15.0      0.0        125.0       2.0     3.0           0.0    6.0     3.0     3.0           10.0\n",
      "Mountain             0.0   29.0    18.0      2.0         6.0          0.0      0.0          4.0     157.0     0.0          26.0    7.0    13.0     3.0            9.0\n",
      "Office               7.0    6.0     1.0      0.0         5.0         13.0      0.0         29.0       3.0    29.0           0.0    5.0     1.0     3.0           13.0\n",
      "Open country         0.0   72.0    29.0      9.0        10.0          7.0      0.0          1.0      46.0     1.0         107.0    4.0    11.0     7.0            6.0\n",
      "Store                0.0    3.0    22.0      0.0         5.0         19.0      0.0         11.0       2.0     1.0           2.0  139.0     2.0     0.0            9.0\n",
      "Street               0.0    2.0    14.0      0.0        11.0          9.0      0.0          5.0      16.0     0.0           7.0    8.0   107.0     4.0            9.0\n",
      "Suburb               0.0    3.0     4.0      0.0        20.0          7.0      0.0         12.0       9.0     0.0           3.0    4.0     9.0    57.0           13.0\n",
      "Tall building        5.0   28.0    13.0      0.0        15.0         13.0      1.0         18.0      14.0     2.0          13.0   16.0     0.0     4.0          114.0\n",
      "\n",
      "Accuracy:  0.5035175879396985\n"
     ]
    }
   ],
   "source": [
    "predict(training_set, \"Training_SIGMOID-KAZE_100_20\", vocabulary=\"vocabulary_KAZE_100_20\",  classifier=\"classifier_SIGMOID-KAZE_100_20\")"
   ]
  },
  {
   "cell_type": "code",
   "execution_count": 46,
   "metadata": {},
   "outputs": [
    {
     "name": "stdout",
     "output_type": "stream",
     "text": [
      "\n",
      "\n",
      "CLASSIFICATION RESULTS (TRAINING_SIGMOID-KAZE_1000_50)\n",
      "\n",
      "Confusion matrix\n",
      "\n",
      "KNOWN/PREDICTED  Bedroom  Coast  Forest  Highway  Industrial  Inside city  Kitchen  Living room  Mountain  Office  Open country  Store  Street  Suburb  Tall building\n",
      "Bedroom             66.0    3.0     3.0      0.0         7.0          4.0      0.0          9.0       4.0     1.0           1.0    4.0     1.0     1.0           12.0\n",
      "Coast                1.0  211.0     6.0      2.0         2.0          0.0      0.0          0.0      12.0     1.0          20.0    1.0     0.0     1.0            3.0\n",
      "Forest               0.0    0.0   208.0      0.0         2.0          0.0      0.0          2.0       5.0     0.0           5.0    5.0     1.0     0.0            0.0\n",
      "Highway              0.0   24.0     0.0     94.0         6.0          3.0      0.0          2.0       4.0     0.0          13.0    1.0     8.0     0.0            5.0\n",
      "Industrial           2.0    5.0     5.0      4.0       142.0          6.0      0.0          8.0       9.0     0.0           7.0   12.0     2.0     4.0            5.0\n",
      "Inside city          0.0    9.0     4.0      0.0         6.0        159.0      0.0          5.0       2.0     0.0           2.0   11.0     2.0     0.0            8.0\n",
      "Kitchen              6.0    3.0     1.0      1.0         9.0          5.0     45.0         19.0       1.0     2.0           1.0    2.0     2.0     2.0           11.0\n",
      "Living room          1.0    2.0     3.0      0.0         3.0          8.0      0.0        165.0       0.0     1.0           0.0    1.0     0.0     1.0            4.0\n",
      "Mountain             0.0   14.0    11.0      2.0         3.0          0.0      0.0          1.0     223.0     0.0          13.0    3.0     3.0     0.0            1.0\n",
      "Office               3.0    3.0     0.0      0.0         5.0          7.0      1.0         17.0       1.0    64.0           1.0    4.0     0.0     1.0            8.0\n",
      "Open country         0.0   50.0    15.0      7.0         3.0          0.0      0.0          0.0      24.0     1.0         202.0    1.0     2.0     0.0            5.0\n",
      "Store                1.0    3.0     7.0      0.0         2.0          5.0      0.0          7.0       2.0     1.0           1.0  174.0     1.0     2.0            9.0\n",
      "Street               0.0    2.0     3.0      0.0         4.0          0.0      0.0          2.0       4.0     0.0           4.0   16.0   153.0     0.0            4.0\n",
      "Suburb               0.0    1.0     8.0      0.0         5.0          2.0      0.0          4.0       3.0     0.0           5.0    5.0     2.0    97.0            9.0\n",
      "Tall building        1.0   19.0    12.0      0.0         5.0          3.0      1.0          2.0       2.0     1.0           3.0    8.0     1.0     1.0          197.0\n",
      "\n",
      "Accuracy:  0.7370184254606366\n"
     ]
    }
   ],
   "source": [
    "predict(training_set, \"Training_SIGMOID-KAZE_1000_50\", vocabulary=\"vocabulary_KAZE_1000_50\", classifier=\"classifier_SIGMOID-KAZE_1000_50\")"
   ]
  },
  {
   "cell_type": "code",
   "execution_count": 47,
   "metadata": {},
   "outputs": [
    {
     "name": "stdout",
     "output_type": "stream",
     "text": [
      "\n",
      "\n",
      "CLASSIFICATION RESULTS (TRAINING_CHI2-SIFT_100_20)\n",
      "\n",
      "Confusion matrix\n",
      "\n",
      "KNOWN/PREDICTED  Bedroom  Coast  Forest  Highway  Industrial  Inside city  Kitchen  Living room  Mountain  Office  Open country  Store  Street  Suburb  Tall building\n",
      "Bedroom             67.0    0.0     1.0      1.0        12.0          1.0      2.0         13.0       4.0     4.0           0.0    5.0     2.0     0.0            4.0\n",
      "Coast                2.0  215.0     3.0      9.0         0.0          0.0      0.0          0.0      23.0     0.0           5.0    0.0     1.0     1.0            1.0\n",
      "Forest               0.0    0.0   214.0      0.0         0.0          0.0      0.0          0.0       7.0     0.0           6.0    1.0     0.0     0.0            0.0\n",
      "Highway              1.0   10.0     0.0    123.0         5.0          6.0      0.0          0.0       2.0     0.0           1.0    3.0     2.0     0.0            7.0\n",
      "Industrial           5.0    0.0     0.0      2.0       122.0         16.0      2.0          8.0       6.0     2.0           2.0   18.0    13.0     6.0            9.0\n",
      "Inside city          3.0    0.0     0.0      0.0         7.0        158.0      0.0          5.0       0.0     1.0           1.0   11.0    10.0     0.0           12.0\n",
      "Kitchen              9.0    0.0     0.0      0.0        10.0         14.0     39.0         23.0       0.0     9.0           0.0    4.0     0.0     1.0            1.0\n",
      "Living room          6.0    0.0     0.0      1.0         8.0          4.0      2.0        127.0       1.0    11.0           0.0   15.0     5.0     6.0            3.0\n",
      "Mountain             0.0   10.0    16.0      1.0         0.0          0.0      0.0          2.0     240.0     0.0           3.0    0.0     1.0     1.0            0.0\n",
      "Office               5.0    0.0     0.0      0.0         2.0          5.0      0.0         19.0       0.0    79.0           0.0    2.0     1.0     2.0            0.0\n",
      "Open country         1.0   52.0    22.0      8.0         4.0          0.0      0.0          0.0      94.0     0.0         125.0    0.0     1.0     2.0            1.0\n",
      "Store                1.0    0.0     3.0      0.0         8.0         10.0      0.0         14.0       0.0     3.0           0.0  161.0    13.0     1.0            1.0\n",
      "Street               1.0    0.0     0.0      1.0        11.0          7.0      2.0          6.0       3.0     0.0           3.0   10.0   136.0     1.0           11.0\n",
      "Suburb               0.0    0.0     1.0      0.0         0.0          0.0      0.0          4.0       2.0     1.0           1.0    2.0     1.0   128.0            1.0\n",
      "Tall building        1.0    2.0     0.0      2.0        15.0         12.0      2.0          6.0       4.0     0.0           1.0    5.0     8.0     1.0          197.0\n",
      "\n",
      "Accuracy:  0.7139028475711893\n"
     ]
    }
   ],
   "source": [
    "predict(training_set, \"Training_CHI2-SIFT_100_20\", vocabulary=\"vocabulary_SIFT_100_20\",  classifier=\"classifier_CHI2-SIFT_100_20\")"
   ]
  },
  {
   "cell_type": "code",
   "execution_count": 48,
   "metadata": {},
   "outputs": [
    {
     "name": "stdout",
     "output_type": "stream",
     "text": [
      "\n",
      "\n",
      "CLASSIFICATION RESULTS (TRAINING_CHI2-SIFT_1000_20)\n",
      "\n",
      "Confusion matrix\n",
      "\n",
      "KNOWN/PREDICTED  Bedroom  Coast  Forest  Highway  Industrial  Inside city  Kitchen  Living room  Mountain  Office  Open country  Store  Street  Suburb  Tall building\n",
      "Bedroom            116.0    0.0     0.0      0.0         0.0          0.0      0.0          0.0       0.0     0.0           0.0    0.0     0.0     0.0            0.0\n",
      "Coast                0.0  259.0     0.0      0.0         0.0          0.0      0.0          0.0       0.0     0.0           1.0    0.0     0.0     0.0            0.0\n",
      "Forest               0.0    0.0   228.0      0.0         0.0          0.0      0.0          0.0       0.0     0.0           0.0    0.0     0.0     0.0            0.0\n",
      "Highway              0.0    0.0     0.0    160.0         0.0          0.0      0.0          0.0       0.0     0.0           0.0    0.0     0.0     0.0            0.0\n",
      "Industrial           0.0    0.0     0.0      0.0       211.0          0.0      0.0          0.0       0.0     0.0           0.0    0.0     0.0     0.0            0.0\n",
      "Inside city          0.0    0.0     0.0      0.0         0.0        208.0      0.0          0.0       0.0     0.0           0.0    0.0     0.0     0.0            0.0\n",
      "Kitchen              0.0    0.0     0.0      0.0         0.0          0.0    110.0          0.0       0.0     0.0           0.0    0.0     0.0     0.0            0.0\n",
      "Living room          0.0    0.0     0.0      0.0         0.0          0.0      0.0        189.0       0.0     0.0           0.0    0.0     0.0     0.0            0.0\n",
      "Mountain             0.0    0.0     1.0      0.0         0.0          0.0      0.0          0.0     272.0     0.0           1.0    0.0     0.0     0.0            0.0\n",
      "Office               0.0    0.0     0.0      0.0         0.0          0.0      0.0          0.0       0.0   115.0           0.0    0.0     0.0     0.0            0.0\n",
      "Open country         0.0    0.0     0.0      0.0         0.0          0.0      0.0          0.0       1.0     0.0         309.0    0.0     0.0     0.0            0.0\n",
      "Store                0.0    0.0     0.0      0.0         0.0          0.0      0.0          0.0       0.0     0.0           0.0  215.0     0.0     0.0            0.0\n",
      "Street               0.0    0.0     0.0      0.0         0.0          0.0      0.0          0.0       0.0     0.0           0.0    0.0   192.0     0.0            0.0\n",
      "Suburb               0.0    0.0     0.0      0.0         0.0          0.0      0.0          0.0       0.0     0.0           0.0    0.0     0.0   141.0            0.0\n",
      "Tall building        0.0    0.0     0.0      0.0         0.0          0.0      0.0          0.0       0.0     0.0           0.0    0.0     0.0     0.0          256.0\n",
      "\n",
      "Accuracy:  0.9986599664991624\n"
     ]
    }
   ],
   "source": [
    "predict(training_set, \"Training_CHI2-SIFT_1000_50\", vocabulary=\"vocabulary_SIFT_1000_50\", classifier=\"classifier_CHI2-SIFT_1000_50\")"
   ]
  },
  {
   "cell_type": "code",
   "execution_count": 49,
   "metadata": {},
   "outputs": [
    {
     "name": "stdout",
     "output_type": "stream",
     "text": [
      "\n",
      "\n",
      "CLASSIFICATION RESULTS (TRAINING_CHI2-KAZE_100_20)\n",
      "\n",
      "Confusion matrix\n",
      "\n",
      "KNOWN/PREDICTED  Bedroom  Coast  Forest  Highway  Industrial  Inside city  Kitchen  Living room  Mountain  Office  Open country  Store  Street  Suburb  Tall building\n",
      "Bedroom             72.0    0.0     2.0      0.0         3.0          4.0      4.0         13.0       4.0     4.0           0.0    2.0     0.0     1.0            7.0\n",
      "Coast                0.0  221.0     2.0      1.0         3.0          0.0      0.0          0.0       6.0     0.0          25.0    0.0     0.0     1.0            1.0\n",
      "Forest               0.0    0.0   204.0      0.0         0.0          0.0      0.0          2.0      12.0     0.0           2.0    3.0     4.0     0.0            1.0\n",
      "Highway              0.0    6.0     0.0    131.0         7.0          0.0      0.0          2.0       5.0     0.0           4.0    1.0     1.0     1.0            2.0\n",
      "Industrial           0.0    2.0     4.0      2.0       129.0          8.0      1.0          9.0       8.0     1.0           4.0   20.0     7.0     9.0            7.0\n",
      "Inside city          3.0    0.0     4.0      1.0         5.0        138.0      0.0         12.0       3.0     2.0           1.0   22.0     5.0     3.0            9.0\n",
      "Kitchen              9.0    0.0     0.0      1.0        10.0          6.0     53.0         14.0       0.0     2.0           0.0    3.0     0.0     2.0           10.0\n",
      "Living room          6.0    0.0     3.0      0.0         3.0          4.0      0.0        154.0       0.0     3.0           0.0    7.0     2.0     1.0            6.0\n",
      "Mountain             0.0    7.0    11.0      1.0         5.0          0.0      0.0          2.0     229.0     0.0           8.0    2.0     4.0     3.0            2.0\n",
      "Office               1.0    0.0     0.0      0.0         5.0          8.0      4.0         11.0       1.0    73.0           1.0    3.0     0.0     0.0            8.0\n",
      "Open country         1.0   22.0    18.0      8.0        10.0          3.0      0.0          0.0      52.0     0.0         185.0    4.0     3.0     2.0            2.0\n",
      "Store                2.0    0.0    12.0      0.0         3.0          4.0      0.0          5.0       2.0     1.0           1.0  175.0     2.0     4.0            4.0\n",
      "Street               0.0    0.0     5.0      3.0        14.0          1.0      0.0          1.0       6.0     0.0           0.0   11.0   146.0     2.0            3.0\n",
      "Suburb               0.0    1.0     1.0      0.0         7.0          0.0      0.0          5.0       0.0     0.0           0.0    2.0     6.0   117.0            2.0\n",
      "Tall building        2.0    3.0     6.0      1.0        14.0          3.0      3.0         14.0      15.0     0.0           3.0   13.0     2.0     4.0          173.0\n",
      "\n",
      "Accuracy:  0.7370184254606366\n"
     ]
    }
   ],
   "source": [
    "predict(training_set, \"Training_CHI2-KAZE_100_20\", vocabulary=\"vocabulary_KAZE_100_20\",  classifier=\"classifier_CHI2-KAZE_100_20\")"
   ]
  },
  {
   "cell_type": "code",
   "execution_count": 50,
   "metadata": {},
   "outputs": [
    {
     "name": "stdout",
     "output_type": "stream",
     "text": [
      "\n",
      "\n",
      "CLASSIFICATION RESULTS (TRAINING_CHI2-KAZE_1000_50)\n",
      "\n",
      "Confusion matrix\n",
      "\n",
      "KNOWN/PREDICTED  Bedroom  Coast  Forest  Highway  Industrial  Inside city  Kitchen  Living room  Mountain  Office  Open country  Store  Street  Suburb  Tall building\n",
      "Bedroom            116.0    0.0     0.0      0.0         0.0          0.0      0.0          0.0       0.0     0.0           0.0    0.0     0.0     0.0            0.0\n",
      "Coast                0.0  254.0     1.0      0.0         0.0          0.0      0.0          0.0       0.0     0.0           5.0    0.0     0.0     0.0            0.0\n",
      "Forest               0.0    0.0   228.0      0.0         0.0          0.0      0.0          0.0       0.0     0.0           0.0    0.0     0.0     0.0            0.0\n",
      "Highway              0.0    0.0     0.0    158.0         0.0          0.0      0.0          0.0       0.0     0.0           0.0    1.0     1.0     0.0            0.0\n",
      "Industrial           0.0    0.0     0.0      0.0       211.0          0.0      0.0          0.0       0.0     0.0           0.0    0.0     0.0     0.0            0.0\n",
      "Inside city          0.0    0.0     0.0      0.0         0.0        208.0      0.0          0.0       0.0     0.0           0.0    0.0     0.0     0.0            0.0\n",
      "Kitchen              0.0    0.0     0.0      0.0         0.0          1.0    108.0          0.0       0.0     0.0           0.0    1.0     0.0     0.0            0.0\n",
      "Living room          0.0    0.0     0.0      0.0         0.0          1.0      0.0        188.0       0.0     0.0           0.0    0.0     0.0     0.0            0.0\n",
      "Mountain             0.0    4.0     0.0      1.0         0.0          0.0      0.0          0.0     266.0     0.0           3.0    0.0     0.0     0.0            0.0\n",
      "Office               0.0    0.0     0.0      0.0         0.0          0.0      0.0          0.0       0.0   115.0           0.0    0.0     0.0     0.0            0.0\n",
      "Open country         0.0   17.0     0.0      1.0         1.0          0.0      0.0          0.0       2.0     0.0         289.0    0.0     0.0     0.0            0.0\n",
      "Store                0.0    0.0     0.0      0.0         0.0          0.0      0.0          0.0       0.0     0.0           0.0  214.0     0.0     1.0            0.0\n",
      "Street               0.0    0.0     0.0      0.0         0.0          0.0      0.0          0.0       1.0     0.0           0.0    0.0   191.0     0.0            0.0\n",
      "Suburb               0.0    0.0     0.0      0.0         0.0          0.0      0.0          0.0       0.0     0.0           0.0    0.0     0.0   141.0            0.0\n",
      "Tall building        0.0    0.0     0.0      0.0         0.0          1.0      0.0          0.0       0.0     0.0           0.0    1.0     0.0     0.0          254.0\n",
      "\n",
      "Accuracy:  0.9852596314907873\n"
     ]
    }
   ],
   "source": [
    "predict(training_set, \"Training_CHI2-KAZE_1000_50\", vocabulary=\"vocabulary_KAZE_1000_50\", classifier=\"classifier_CHI2-KAZE_1000_50\")"
   ]
  },
  {
   "cell_type": "code",
   "execution_count": 51,
   "metadata": {},
   "outputs": [
    {
     "name": "stdout",
     "output_type": "stream",
     "text": [
      "\n",
      "\n",
      "CLASSIFICATION RESULTS (TRAINING_INTER-SIFT_100_20)\n",
      "\n",
      "Confusion matrix\n",
      "\n",
      "KNOWN/PREDICTED  Bedroom  Coast  Forest  Highway  Industrial  Inside city  Kitchen  Living room  Mountain  Office  Open country  Store  Street  Suburb  Tall building\n",
      "Bedroom             87.0    0.0     1.0      1.0         4.0          1.0      1.0         10.0       1.0     2.0           0.0    5.0     1.0     0.0            2.0\n",
      "Coast                0.0  211.0     2.0      5.0         1.0          0.0      0.0          0.0       7.0     0.0          34.0    0.0     0.0     0.0            0.0\n",
      "Forest               0.0    0.0   224.0      0.0         0.0          0.0      0.0          0.0       3.0     0.0           1.0    0.0     0.0     0.0            0.0\n",
      "Highway              1.0    2.0     0.0    143.0         3.0          1.0      0.0          0.0       1.0     0.0           3.0    1.0     2.0     0.0            3.0\n",
      "Industrial           5.0    0.0     0.0      1.0       157.0          4.0      0.0          6.0       3.0     2.0           1.0   20.0     7.0     2.0            3.0\n",
      "Inside city          4.0    0.0     0.0      0.0        11.0        170.0      0.0          5.0       0.0     0.0           0.0    6.0     5.0     0.0            7.0\n",
      "Kitchen              3.0    0.0     0.0      0.0         4.0          8.0     65.0         23.0       0.0     2.0           0.0    4.0     0.0     0.0            1.0\n",
      "Living room          4.0    0.0     0.0      0.0         4.0          2.0      1.0        162.0       0.0     4.0           0.0    5.0     3.0     2.0            2.0\n",
      "Mountain             0.0    5.0    11.0      1.0         0.0          0.0      0.0          1.0     253.0     0.0           3.0    0.0     0.0     0.0            0.0\n",
      "Office               2.0    0.0     0.0      0.0         3.0          2.0      2.0         10.0       0.0    96.0           0.0    0.0     0.0     0.0            0.0\n",
      "Open country         0.0   15.0    19.0      2.0         3.0          0.0      0.0          0.0      39.0     0.0         231.0    0.0     0.0     0.0            1.0\n",
      "Store                0.0    0.0     2.0      0.0         4.0          6.0      0.0         10.0       0.0     3.0           0.0  179.0     8.0     1.0            2.0\n",
      "Street               1.0    0.0     0.0      2.0         4.0          4.0      0.0          2.0       2.0     0.0           2.0    8.0   160.0     1.0            6.0\n",
      "Suburb               0.0    0.0     0.0      0.0         0.0          0.0      0.0          2.0       1.0     1.0           0.0    1.0     0.0   135.0            1.0\n",
      "Tall building        3.0    0.0     0.0      1.0         8.0          7.0      2.0          3.0       0.0     0.0           0.0    9.0     5.0     1.0          217.0\n",
      "\n",
      "Accuracy:  0.8341708542713567\n"
     ]
    }
   ],
   "source": [
    "predict(training_set, \"Training_INTER-SIFT_100_20\", vocabulary=\"vocabulary_SIFT_100_20\",  classifier=\"classifier_INTER-SIFT_100_20\")"
   ]
  },
  {
   "cell_type": "code",
   "execution_count": 52,
   "metadata": {},
   "outputs": [
    {
     "name": "stdout",
     "output_type": "stream",
     "text": [
      "\n",
      "\n",
      "CLASSIFICATION RESULTS (TRAINING_INTER-SIFT_1000_20)\n",
      "\n",
      "Confusion matrix\n",
      "\n",
      "KNOWN/PREDICTED  Bedroom  Coast  Forest  Highway  Industrial  Inside city  Kitchen  Living room  Mountain  Office  Open country  Store  Street  Suburb  Tall building\n",
      "Bedroom            116.0    0.0     0.0      0.0         0.0          0.0      0.0          0.0       0.0     0.0           0.0    0.0     0.0     0.0            0.0\n",
      "Coast                0.0  259.0     0.0      0.0         0.0          0.0      0.0          0.0       0.0     0.0           1.0    0.0     0.0     0.0            0.0\n",
      "Forest               0.0    0.0   228.0      0.0         0.0          0.0      0.0          0.0       0.0     0.0           0.0    0.0     0.0     0.0            0.0\n",
      "Highway              0.0    0.0     0.0    160.0         0.0          0.0      0.0          0.0       0.0     0.0           0.0    0.0     0.0     0.0            0.0\n",
      "Industrial           0.0    0.0     0.0      0.0       210.0          0.0      0.0          1.0       0.0     0.0           0.0    0.0     0.0     0.0            0.0\n",
      "Inside city          0.0    0.0     0.0      0.0         0.0        208.0      0.0          0.0       0.0     0.0           0.0    0.0     0.0     0.0            0.0\n",
      "Kitchen              0.0    0.0     0.0      0.0         0.0          0.0    110.0          0.0       0.0     0.0           0.0    0.0     0.0     0.0            0.0\n",
      "Living room          0.0    0.0     0.0      0.0         0.0          0.0      0.0        189.0       0.0     0.0           0.0    0.0     0.0     0.0            0.0\n",
      "Mountain             0.0    2.0     0.0      0.0         0.0          0.0      0.0          0.0     269.0     0.0           3.0    0.0     0.0     0.0            0.0\n",
      "Office               0.0    0.0     0.0      0.0         0.0          0.0      0.0          0.0       0.0   115.0           0.0    0.0     0.0     0.0            0.0\n",
      "Open country         0.0    3.0     1.0      1.0         0.0          0.0      0.0          0.0       2.0     0.0         303.0    0.0     0.0     0.0            0.0\n",
      "Store                0.0    0.0     0.0      0.0         0.0          0.0      0.0          0.0       0.0     0.0           0.0  215.0     0.0     0.0            0.0\n",
      "Street               0.0    0.0     0.0      0.0         0.0          0.0      0.0          0.0       0.0     0.0           0.0    0.0   192.0     0.0            0.0\n",
      "Suburb               0.0    0.0     0.0      0.0         0.0          0.0      0.0          0.0       0.0     0.0           0.0    0.0     0.0   141.0            0.0\n",
      "Tall building        0.0    0.0     0.0      0.0         0.0          0.0      0.0          0.0       0.0     0.0           0.0    0.0     0.0     0.0          256.0\n",
      "\n",
      "Accuracy:  0.9953098827470687\n"
     ]
    }
   ],
   "source": [
    "predict(training_set, \"Training_INTER-SIFT_1000_50\", vocabulary=\"vocabulary_SIFT_1000_50\", classifier=\"classifier_INTER-SIFT_1000_50\")"
   ]
  },
  {
   "cell_type": "code",
   "execution_count": 53,
   "metadata": {},
   "outputs": [
    {
     "name": "stdout",
     "output_type": "stream",
     "text": [
      "\n",
      "\n",
      "CLASSIFICATION RESULTS (TRAINING_INTER-KAZE_100_20)\n",
      "\n",
      "Confusion matrix\n",
      "\n",
      "KNOWN/PREDICTED  Bedroom  Coast  Forest  Highway  Industrial  Inside city  Kitchen  Living room  Mountain  Office  Open country  Store  Street  Suburb  Tall building\n",
      "Bedroom             56.0    1.0     1.0      0.0         8.0          7.0      1.0         19.0       5.0     3.0           0.0    4.0     0.0     2.0            9.0\n",
      "Coast                3.0  196.0     6.0      4.0         6.0          0.0      0.0          0.0       9.0     0.0          32.0    0.0     1.0     1.0            2.0\n",
      "Forest               1.0    1.0   194.0      0.0         0.0          0.0      0.0          2.0      12.0     0.0           5.0    7.0     5.0     0.0            1.0\n",
      "Highway              0.0   16.0     0.0    100.0         8.0          2.0      0.0          1.0       6.0     0.0          12.0    2.0     7.0     0.0            6.0\n",
      "Industrial           1.0    4.0     5.0      4.0       129.0          8.0      0.0          8.0      13.0     0.0           5.0   19.0     4.0     6.0            5.0\n",
      "Inside city          3.0    2.0    11.0      3.0         5.0        132.0      0.0         15.0       4.0     1.0           3.0   18.0     4.0     1.0            6.0\n",
      "Kitchen             10.0    0.0     0.0      2.0        14.0         10.0     22.0         25.0       1.0     5.0           1.0    3.0     1.0     4.0           12.0\n",
      "Living room          4.0    2.0     4.0      0.0         4.0          9.0      0.0        148.0       2.0     2.0           1.0    7.0     2.0     1.0            3.0\n",
      "Mountain             0.0    8.0    10.0      1.0         7.0          0.0      0.0          5.0     213.0     0.0          14.0    7.0     5.0     2.0            2.0\n",
      "Office               7.0    0.0     0.0      1.0         5.0          8.0      1.0         22.0       3.0    51.0           1.0    4.0     1.0     1.0           10.0\n",
      "Open country         0.0   30.0    13.0      5.0        11.0          2.0      0.0          0.0      30.0     0.0         202.0    7.0     3.0     3.0            4.0\n",
      "Store                0.0    0.0     7.0      0.0         5.0          4.0      0.0         11.0       3.0     1.0           0.0  175.0     1.0     3.0            5.0\n",
      "Street               0.0    0.0     6.0      1.0         8.0          5.0      0.0          3.0       5.0     0.0           3.0   16.0   139.0     2.0            4.0\n",
      "Suburb               0.0    0.0     2.0      0.0        11.0          3.0      0.0         10.0       1.0     0.0           1.0    4.0     6.0    98.0            5.0\n",
      "Tall building        3.0    9.0     9.0      0.0        14.0          6.0      1.0         14.0      15.0     0.0           9.0   14.0     1.0     3.0          158.0\n",
      "\n",
      "Accuracy:  0.6743718592964824\n"
     ]
    }
   ],
   "source": [
    "predict(training_set, \"Training_INTER-KAZE_100_20\", vocabulary=\"vocabulary_KAZE_100_20\",  classifier=\"classifier_INTER-KAZE_100_20\")"
   ]
  },
  {
   "cell_type": "code",
   "execution_count": 54,
   "metadata": {},
   "outputs": [
    {
     "name": "stdout",
     "output_type": "stream",
     "text": [
      "\n",
      "\n",
      "CLASSIFICATION RESULTS (TRAINING_INTER-KAZE_1000_50)\n",
      "\n",
      "Confusion matrix\n",
      "\n",
      "KNOWN/PREDICTED  Bedroom  Coast  Forest  Highway  Industrial  Inside city  Kitchen  Living room  Mountain  Office  Open country  Store  Street  Suburb  Tall building\n",
      "Bedroom            116.0    0.0     0.0      0.0         0.0          0.0      0.0          0.0       0.0     0.0           0.0    0.0     0.0     0.0            0.0\n",
      "Coast                0.0  255.0     0.0      0.0         0.0          0.0      0.0          0.0       0.0     0.0           5.0    0.0     0.0     0.0            0.0\n",
      "Forest               0.0    0.0   228.0      0.0         0.0          0.0      0.0          0.0       0.0     0.0           0.0    0.0     0.0     0.0            0.0\n",
      "Highway              0.0    0.0     0.0    160.0         0.0          0.0      0.0          0.0       0.0     0.0           0.0    0.0     0.0     0.0            0.0\n",
      "Industrial           1.0    0.0     0.0      0.0       210.0          0.0      0.0          0.0       0.0     0.0           0.0    0.0     0.0     0.0            0.0\n",
      "Inside city          0.0    0.0     0.0      0.0         0.0        208.0      0.0          0.0       0.0     0.0           0.0    0.0     0.0     0.0            0.0\n",
      "Kitchen              0.0    0.0     0.0      0.0         0.0          0.0    110.0          0.0       0.0     0.0           0.0    0.0     0.0     0.0            0.0\n",
      "Living room          0.0    0.0     0.0      0.0         0.0          0.0      0.0        189.0       0.0     0.0           0.0    0.0     0.0     0.0            0.0\n",
      "Mountain             0.0    1.0     0.0      0.0         0.0          0.0      0.0          0.0     268.0     0.0           5.0    0.0     0.0     0.0            0.0\n",
      "Office               0.0    0.0     0.0      0.0         0.0          0.0      0.0          0.0       0.0   115.0           0.0    0.0     0.0     0.0            0.0\n",
      "Open country         0.0   18.0     2.0      0.0         2.0          0.0      0.0          0.0       4.0     0.0         284.0    0.0     0.0     0.0            0.0\n",
      "Store                0.0    0.0     0.0      0.0         0.0          0.0      0.0          0.0       0.0     0.0           0.0  215.0     0.0     0.0            0.0\n",
      "Street               0.0    0.0     0.0      0.0         0.0          0.0      0.0          0.0       0.0     0.0           0.0    0.0   192.0     0.0            0.0\n",
      "Suburb               0.0    0.0     0.0      0.0         0.0          0.0      0.0          0.0       0.0     0.0           0.0    0.0     0.0   141.0            0.0\n",
      "Tall building        0.0    0.0     0.0      0.0         0.0          0.0      0.0          0.0       0.0     0.0           0.0    0.0     0.0     1.0          255.0\n",
      "\n",
      "Accuracy:  0.9869346733668342\n"
     ]
    }
   ],
   "source": [
    "predict(training_set, \"Training_INTER-KAZE_1000_50\", vocabulary=\"vocabulary_KAZE_1000_50\", classifier=\"classifier_INTER-KAZE_1000_50\")"
   ]
  },
  {
   "attachments": {},
   "cell_type": "markdown",
   "metadata": {},
   "source": [
    "#### Segunda ronda"
   ]
  },
  {
   "cell_type": "code",
   "execution_count": null,
   "metadata": {},
   "outputs": [],
   "source": [
    "predict(training_set, \"Training_RBF-SIFT_2000_50\", vocabulary=\"vocabulary_SIFT_2000_50\", classifier=\"classifier_RBF-SIFT_2000_50\")"
   ]
  },
  {
   "cell_type": "code",
   "execution_count": null,
   "metadata": {},
   "outputs": [],
   "source": [
    "predict(training_set, \"Training_RBF-SIFT_2000_100\", vocabulary=\"vocabulary_SIFT_2000_100\", classifier=\"classifier_RBF-SIFT_2000_100\")"
   ]
  },
  {
   "cell_type": "code",
   "execution_count": null,
   "metadata": {},
   "outputs": [],
   "source": [
    "predict(training_set, \"Training_RBF-KAZE_2000_50\", vocabulary=\"vocabulary_KAZE_2000_50\", classifier=\"classifier_RBF-KAZE_2000_50\")"
   ]
  },
  {
   "cell_type": "code",
   "execution_count": null,
   "metadata": {},
   "outputs": [],
   "source": [
    "predict(training_set, \"Training_CHI2-SIFT_2000_50\", vocabulary=\"vocabulary_SIFT_2000_50\", classifier=\"classifier_CHI2-SIFT_2000_50\")"
   ]
  },
  {
   "cell_type": "code",
   "execution_count": null,
   "metadata": {},
   "outputs": [],
   "source": [
    "predict(training_set, \"Training_CHI2-SIFT_2000_100\", vocabulary=\"vocabulary_SIFT_2000_100\", classifier=\"classifier_cHI2-SIFT_2000_100\")"
   ]
  },
  {
   "cell_type": "code",
   "execution_count": null,
   "metadata": {},
   "outputs": [],
   "source": [
    "predict(training_set, \"Training_CHI2-KAZE_2000_50\", vocabulary=\"vocabulary_KAZE_2000_50\", classifier=\"classifier_CHI2-KAZE_2000_50\")"
   ]
  },
  {
   "cell_type": "code",
   "execution_count": null,
   "metadata": {},
   "outputs": [],
   "source": [
    "predict(training_set, \"Training_INTER-SIFT_2000_50\", vocabulary=\"vocabulary_SIFT_2000_50\", classifier=\"classifier_INTER-SIFT_2000_50\")"
   ]
  },
  {
   "cell_type": "code",
   "execution_count": null,
   "metadata": {},
   "outputs": [],
   "source": [
    "predict(training_set, \"Training_INTER-SIFT_2000_100\", vocabulary=\"vocabulary_SIFT_2000_100\", classifier=\"classifier_INTER-SIFT_2000_100\")"
   ]
  },
  {
   "cell_type": "code",
   "execution_count": null,
   "metadata": {},
   "outputs": [],
   "source": [
    "predict(training_set, \"Training_INTER-KAZE_2000_50\", vocabulary=\"vocabulary_KAZE_2000_50\", classifier=\"classifier_INTER-KAZE_2000_50\")"
   ]
  },
  {
   "attachments": {},
   "cell_type": "markdown",
   "metadata": {},
   "source": [
    "### Perform inference on the validation set\n"
   ]
  },
  {
   "cell_type": "code",
   "execution_count": 55,
   "metadata": {},
   "outputs": [
    {
     "name": "stdout",
     "output_type": "stream",
     "text": [
      "\n",
      "\n",
      "CLASSIFICATION RESULTS (VALIDATION_LINEAR-SIFT_100_20)\n",
      "\n",
      "Confusion matrix\n",
      "\n",
      "KNOWN/PREDICTED  Bedroom  Coast  Forest  Highway  Industrial  Inside city  Kitchen  Living room  Mountain  Office  Open country  Store  Street  Suburb  Tall building\n",
      "Bedroom             18.0    5.0     2.0      2.0        10.0          6.0      1.0         25.0       2.0     8.0           4.0    5.0     4.0     1.0            7.0\n",
      "Coast                0.0   66.0     1.0      5.0         1.0          1.0      0.0          0.0      13.0     0.0           8.0    1.0     0.0     2.0            2.0\n",
      "Forest               0.0    0.0    86.0      0.0         0.0          0.0      0.0          0.0       4.0     0.0           7.0    1.0     1.0     1.0            0.0\n",
      "Highway              1.0   27.0     0.0     36.0         7.0          3.0      0.0          0.0       8.0     0.0           3.0    1.0     4.0     5.0            5.0\n",
      "Industrial           4.0    2.0     0.0      3.0        34.0         17.0      1.0          4.0       9.0     0.0           1.0   11.0     8.0     0.0            6.0\n",
      "Inside city          0.0    0.0     0.0      1.0         4.0         60.0      0.0          8.0       0.0     2.0           2.0    7.0     6.0     0.0           10.0\n",
      "Kitchen              6.0    1.0     0.0      0.0         8.0         19.0     11.0         33.0       0.0     9.0           0.0    7.0     1.0     1.0            4.0\n",
      "Living room          6.0    1.0     1.0      0.0        15.0          4.0      1.0         51.0       1.0     7.0           1.0    7.0     2.0     0.0            3.0\n",
      "Mountain             0.0    9.0     6.0      0.0         0.0          0.0      0.0          0.0      70.0     0.0           8.0    1.0     3.0     3.0            0.0\n",
      "Office               6.0    0.0     0.0      0.0         9.0         18.0      4.0         28.0       0.0    24.0           0.0    4.0     2.0     3.0            2.0\n",
      "Open country         0.0   28.0     7.0      1.0         2.0          0.0      0.0          0.0      18.0     0.0          40.0    0.0     4.0     0.0            0.0\n",
      "Store                0.0    0.0     3.0      0.0         9.0          8.0      2.0          3.0       1.0     0.0           0.0   57.0    12.0     3.0            2.0\n",
      "Street               0.0    3.0     1.0      0.0        24.0          8.0      0.0          3.0       3.0     0.0           1.0    5.0    39.0     0.0           13.0\n",
      "Suburb               0.0    0.0     7.0      0.0         4.0          1.0      0.0          5.0       4.0     0.0           3.0    3.0     0.0    71.0            2.0\n",
      "Tall building        1.0    6.0     1.0      6.0         4.0          7.0      0.0          0.0       4.0     2.0           3.0    1.0     0.0     2.0           63.0\n",
      "\n",
      "Accuracy:  0.484\n"
     ]
    }
   ],
   "source": [
    "predict(validation_set, \"Validation_LINEAR-SIFT_100_20\", vocabulary=\"vocabulary_SIFT_100_20\",  classifier=\"classifier_LINEAR-SIFT_100_20\")"
   ]
  },
  {
   "cell_type": "code",
   "execution_count": 56,
   "metadata": {},
   "outputs": [
    {
     "name": "stdout",
     "output_type": "stream",
     "text": [
      "\n",
      "\n",
      "CLASSIFICATION RESULTS (VALIDATION_LINEAR-SIFT_1000_20)\n",
      "\n",
      "Confusion matrix\n",
      "\n",
      "KNOWN/PREDICTED  Bedroom  Coast  Forest  Highway  Industrial  Inside city  Kitchen  Living room  Mountain  Office  Open country  Store  Street  Suburb  Tall building\n",
      "Bedroom             31.0    0.0     0.0      3.0        10.0          6.0      5.0         21.0       1.0     6.0           1.0   11.0     1.0     1.0            3.0\n",
      "Coast                3.0   41.0     0.0     12.0         1.0          0.0      1.0          0.0      22.0     1.0          19.0    0.0     0.0     0.0            0.0\n",
      "Forest               0.0    0.0    90.0      0.0         0.0          0.0      0.0          0.0       2.0     0.0           7.0    0.0     0.0     1.0            0.0\n",
      "Highway              1.0   10.0     0.0     58.0         7.0          7.0      1.0          2.0       2.0     0.0           8.0    0.0     2.0     1.0            1.0\n",
      "Industrial           4.0    1.0     0.0      3.0        41.0          6.0      2.0          7.0       1.0     1.0           3.0   16.0     8.0     3.0            4.0\n",
      "Inside city          4.0    0.0     0.0      0.0         9.0         56.0      2.0          5.0       0.0     2.0           0.0    8.0     5.0     0.0            9.0\n",
      "Kitchen              4.0    0.0     0.0      0.0         4.0         14.0     13.0         41.0       0.0     7.0           0.0   12.0     0.0     2.0            3.0\n",
      "Living room         12.0    0.0     0.0      1.0         2.0          7.0      5.0         50.0       0.0    10.0           0.0    9.0     2.0     0.0            2.0\n",
      "Mountain             0.0    3.0     5.0      1.0         0.0          0.0      0.0          0.0      71.0     0.0          16.0    0.0     1.0     3.0            0.0\n",
      "Office               4.0    0.0     0.0      0.0         4.0          9.0      7.0         19.0       0.0    50.0           0.0    5.0     2.0     0.0            0.0\n",
      "Open country         0.0   11.0    10.0      3.0         5.0          0.0      0.0          0.0      26.0     0.0          44.0    1.0     0.0     0.0            0.0\n",
      "Store                1.0    0.0     3.0      0.0         6.0          3.0      2.0          4.0       1.0     2.0           0.0   70.0     3.0     4.0            1.0\n",
      "Street               2.0    0.0     0.0      2.0        16.0         11.0      0.0          1.0       1.0     0.0           5.0   12.0    41.0     0.0            9.0\n",
      "Suburb               0.0    0.0     5.0      0.0         3.0          1.0      0.0          2.0       1.0     0.0           1.0    2.0     0.0    84.0            1.0\n",
      "Tall building        2.0    0.0     0.0      1.0        12.0          9.0      1.0          1.0       1.0     0.0           2.0   10.0     7.0     2.0           52.0\n",
      "\n",
      "Accuracy:  0.528\n"
     ]
    }
   ],
   "source": [
    "predict(validation_set, \"Validation_LINEAR-SIFT_1000_50\", vocabulary=\"vocabulary_SIFT_1000_50\", classifier=\"classifier_LINEAR-SIFT_1000_50\")"
   ]
  },
  {
   "cell_type": "code",
   "execution_count": 57,
   "metadata": {},
   "outputs": [
    {
     "name": "stdout",
     "output_type": "stream",
     "text": [
      "\n",
      "\n",
      "CLASSIFICATION RESULTS (VALIDATION_LINEAR-KAZE_100_20)\n",
      "\n",
      "Confusion matrix\n",
      "\n",
      "KNOWN/PREDICTED  Bedroom  Coast  Forest  Highway  Industrial  Inside city  Kitchen  Living room  Mountain  Office  Open country  Store  Street  Suburb  Tall building\n",
      "Bedroom             19.0    3.0     5.0      2.0         4.0          9.0      0.0         33.0       5.0     3.0           1.0    3.0     3.0     4.0            6.0\n",
      "Coast                0.0   45.0     7.0      6.0         0.0          0.0      0.0          2.0       5.0     1.0          29.0    1.0     0.0     0.0            2.0\n",
      "Forest               0.0    0.0    67.0      0.0         2.0          0.0      0.0          2.0       8.0     0.0           4.0   13.0     1.0     2.0            1.0\n",
      "Highway              1.0   24.0     0.0     49.0         1.0          3.0      0.0          0.0       6.0     1.0           9.0    0.0     3.0     1.0            2.0\n",
      "Industrial           2.0    6.0     2.0      4.0        28.0          8.0      0.0         12.0       6.0     0.0           5.0    9.0     6.0     2.0           10.0\n",
      "Inside city          3.0    5.0     4.0      0.0         1.0         46.0      0.0          8.0       1.0     2.0           4.0   16.0     1.0     3.0            6.0\n",
      "Kitchen              9.0    0.0     1.0      2.0         7.0         15.0      3.0         41.0       0.0     6.0           1.0    6.0     1.0     2.0            6.0\n",
      "Living room          3.0    1.0     3.0      0.0         7.0          4.0      0.0         58.0       3.0     1.0           1.0    4.0     0.0     2.0           13.0\n",
      "Mountain             1.0   14.0     8.0      0.0         2.0          2.0      0.0          1.0      54.0     0.0          13.0    3.0     1.0     1.0            0.0\n",
      "Office               9.0    1.0     1.0      2.0         5.0         15.0      2.0         21.0       3.0    22.0           2.0    1.0     1.0     3.0           12.0\n",
      "Open country         0.0   26.0    11.0      4.0         7.0          2.0      0.0          3.0      12.0     0.0          27.0    3.0     2.0     1.0            2.0\n",
      "Store                1.0    2.0    15.0      0.0         4.0          9.0      0.0          5.0       6.0     0.0           2.0   53.0     0.0     1.0            2.0\n",
      "Street               0.0    3.0     6.0      0.0        12.0          8.0      0.0          2.0      15.0     0.0           5.0    6.0    36.0     2.0            5.0\n",
      "Suburb               0.0    4.0     2.0      1.0        10.0          7.0      0.0          6.0       6.0     0.0          16.0    4.0     4.0    33.0            7.0\n",
      "Tall building        5.0    7.0     2.0      1.0         2.0         10.0      0.0          9.0       9.0     0.0           4.0    5.0     0.0     2.0           44.0\n",
      "\n",
      "Accuracy:  0.38985313751668893\n"
     ]
    }
   ],
   "source": [
    "predict(validation_set, \"Validation_LINEAR-KAZE_100_20\", vocabulary=\"vocabulary_KAZE_100_20\",  classifier=\"classifier_LINEAR-KAZE_100_20\")"
   ]
  },
  {
   "cell_type": "code",
   "execution_count": 58,
   "metadata": {},
   "outputs": [
    {
     "name": "stdout",
     "output_type": "stream",
     "text": [
      "\n",
      "\n",
      "CLASSIFICATION RESULTS (VALIDATION_LINEAR-KAZE_1000_50)\n",
      "\n",
      "Confusion matrix\n",
      "\n",
      "KNOWN/PREDICTED  Bedroom  Coast  Forest  Highway  Industrial  Inside city  Kitchen  Living room  Mountain  Office  Open country  Store  Street  Suburb  Tall building\n",
      "Bedroom             20.0    4.0     5.0      0.0         6.0          9.0      0.0         39.0       2.0     4.0           3.0    3.0     1.0     0.0            4.0\n",
      "Coast                0.0   58.0     3.0      7.0         1.0          1.0      0.0          0.0       7.0     0.0          20.0    0.0     0.0     1.0            0.0\n",
      "Forest               0.0    2.0    81.0      0.0         0.0          0.0      0.0          2.0       3.0     0.0           3.0    6.0     1.0     0.0            2.0\n",
      "Highway              1.0   20.0     0.0     48.0         6.0          1.0      0.0          1.0       2.0     1.0          16.0    0.0     1.0     0.0            3.0\n",
      "Industrial           1.0    5.0     4.0      0.0        39.0         10.0      0.0          7.0       5.0     0.0           2.0   11.0     4.0     4.0            8.0\n",
      "Inside city          2.0    1.0     2.0      0.0         9.0         39.0      4.0         10.0       0.0     1.0           4.0   14.0     2.0     1.0           11.0\n",
      "Kitchen              5.0    3.0     0.0      0.0         5.0         17.0     11.0         37.0       0.0     4.0           1.0    6.0     2.0     0.0            9.0\n",
      "Living room          7.0    2.0     2.0      0.0        11.0          4.0      1.0         54.0       2.0     0.0           0.0    3.0     0.0     3.0           11.0\n",
      "Mountain             0.0   15.0     8.0      0.0         2.0          0.0      0.0          1.0      58.0     0.0          11.0    2.0     2.0     0.0            1.0\n",
      "Office               8.0    3.0     0.0      0.0         8.0         12.0      3.0         24.0       2.0    27.0           2.0    4.0     1.0     1.0            5.0\n",
      "Open country         1.0   21.0    10.0      2.0         7.0          0.0      0.0          1.0      11.0     0.0          38.0    1.0     3.0     1.0            4.0\n",
      "Store                0.0    0.0     5.0      0.0         3.0          8.0      0.0          7.0       1.0     0.0           4.0   61.0     2.0     1.0            8.0\n",
      "Street               0.0    0.0     3.0      0.0        14.0          1.0      0.0          4.0       7.0     0.0           5.0    3.0    49.0     0.0           14.0\n",
      "Suburb               0.0    3.0     4.0      1.0         9.0          4.0      0.0          7.0       3.0     0.0          14.0    4.0     4.0    43.0            4.0\n",
      "Tall building        2.0   12.0     0.0      1.0         7.0          8.0      0.0          9.0       6.0     0.0           3.0    7.0     1.0     1.0           43.0\n",
      "\n",
      "Accuracy:  0.44659546061415223\n"
     ]
    }
   ],
   "source": [
    "predict(validation_set, \"Validation_LINEAR-KAZE_1000_50\", vocabulary=\"vocabulary_KAZE_1000_50\", classifier=\"classifier_LINEAR-KAZE_1000_50\")"
   ]
  },
  {
   "cell_type": "code",
   "execution_count": 59,
   "metadata": {},
   "outputs": [
    {
     "name": "stdout",
     "output_type": "stream",
     "text": [
      "\n",
      "\n",
      "CLASSIFICATION RESULTS (VALIDATION_RBF-SIFT_100_20)\n",
      "\n",
      "Confusion matrix\n",
      "\n",
      "KNOWN/PREDICTED  Bedroom  Coast  Forest  Highway  Industrial  Inside city  Kitchen  Living room  Mountain  Office  Open country  Store  Street  Suburb  Tall building\n",
      "Bedroom             18.0    3.0     2.0      3.0         8.0         10.0      1.0         24.0       2.0     8.0           4.0    6.0     4.0     1.0            6.0\n",
      "Coast                0.0   61.0     2.0      3.0         0.0          2.0      0.0          0.0      12.0     0.0          15.0    1.0     0.0     2.0            2.0\n",
      "Forest               0.0    0.0    85.0      0.0         0.0          0.0      0.0          0.0       4.0     0.0           8.0    1.0     1.0     1.0            0.0\n",
      "Highway              1.0   25.0     0.0     36.0         3.0          6.0      0.0          0.0       6.0     0.0           7.0    1.0     4.0     5.0            6.0\n",
      "Industrial           4.0    1.0     0.0      4.0        27.0         21.0      1.0          6.0       6.0     0.0           3.0   10.0    11.0     1.0            5.0\n",
      "Inside city          0.0    0.0     0.0      1.0         3.0         61.0      0.0          8.0       0.0     2.0           2.0    7.0     6.0     0.0           10.0\n",
      "Kitchen              5.0    0.0     0.0      0.0         5.0         21.0     11.0         34.0       0.0    11.0           1.0    7.0     0.0     1.0            4.0\n",
      "Living room          6.0    1.0     1.0      0.0        11.0          6.0      1.0         51.0       1.0     8.0           1.0    7.0     3.0     0.0            3.0\n",
      "Mountain             0.0    9.0     6.0      0.0         0.0          0.0      0.0          0.0      69.0     0.0          10.0    0.0     3.0     3.0            0.0\n",
      "Office               6.0    0.0     0.0      0.0         7.0         21.0      4.0         27.0       1.0    23.0           0.0    5.0     2.0     3.0            1.0\n",
      "Open country         0.0   25.0     8.0      1.0         1.0          0.0      0.0          0.0      10.0     0.0          51.0    0.0     4.0     0.0            0.0\n",
      "Store                0.0    0.0     3.0      0.0         9.0          9.0      2.0          6.0       0.0     0.0           0.0   55.0    11.0     3.0            2.0\n",
      "Street               0.0    5.0     2.0      0.0        17.0          8.0      0.0          3.0       1.0     0.0           1.0    5.0    45.0     0.0           13.0\n",
      "Suburb               0.0    0.0     7.0      0.0         3.0          1.0      0.0          6.0       4.0     0.0           2.0    3.0     0.0    72.0            2.0\n",
      "Tall building        0.0    4.0     1.0      6.0         4.0          7.0      0.0          1.0       4.0     2.0           4.0    1.0     0.0     2.0           64.0\n",
      "\n",
      "Accuracy:  0.486\n"
     ]
    }
   ],
   "source": [
    "predict(validation_set, \"Validation_RBF-SIFT_100_20\", vocabulary=\"vocabulary_SIFT_100_20\",  classifier=\"classifier_RBF-SIFT_100_20\")"
   ]
  },
  {
   "cell_type": "code",
   "execution_count": 60,
   "metadata": {},
   "outputs": [
    {
     "name": "stdout",
     "output_type": "stream",
     "text": [
      "\n",
      "\n",
      "CLASSIFICATION RESULTS (VALIDATION_RBF-SIFT_1000_20)\n",
      "\n",
      "Confusion matrix\n",
      "\n",
      "KNOWN/PREDICTED  Bedroom  Coast  Forest  Highway  Industrial  Inside city  Kitchen  Living room  Mountain  Office  Open country  Store  Street  Suburb  Tall building\n",
      "Bedroom             26.0    0.0     0.0      2.0        11.0          3.0      4.0         26.0       2.0     8.0           0.0   11.0     1.0     1.0            5.0\n",
      "Coast                2.0   39.0     1.0      8.0         1.0          0.0      1.0          0.0      15.0     1.0          30.0    1.0     1.0     0.0            0.0\n",
      "Forest               0.0    0.0    88.0      0.0         0.0          0.0      0.0          0.0       8.0     0.0           3.0    0.0     0.0     1.0            0.0\n",
      "Highway              1.0   10.0     0.0     54.0         6.0          6.0      1.0          2.0       6.0     0.0           9.0    0.0     3.0     1.0            1.0\n",
      "Industrial           4.0    2.0     0.0      2.0        35.0          8.0      3.0          7.0       0.0     1.0           2.0   13.0    16.0     2.0            5.0\n",
      "Inside city          3.0    0.0     0.0      0.0        10.0         56.0      2.0          4.0       0.0     2.0           0.0   11.0     6.0     0.0            6.0\n",
      "Kitchen              5.0    0.0     0.0      0.0         4.0         13.0     22.0         35.0       0.0     6.0           0.0   11.0     1.0     2.0            1.0\n",
      "Living room         13.0    0.0     0.0      1.0         4.0          3.0      7.0         50.0       0.0     9.0           0.0    8.0     4.0     0.0            1.0\n",
      "Mountain             0.0    7.0     5.0      2.0         0.0          0.0      0.0          0.0      79.0     0.0           4.0    0.0     1.0     2.0            0.0\n",
      "Office               3.0    0.0     0.0      0.0         4.0          9.0     10.0         19.0       0.0    47.0           0.0    5.0     3.0     0.0            0.0\n",
      "Open country         0.0   11.0    11.0      6.0         3.0          0.0      0.0          0.0      24.0     0.0          44.0    1.0     0.0     0.0            0.0\n",
      "Store                1.0    0.0     3.0      0.0         4.0          1.0      2.0          3.0       1.0     2.0           0.0   71.0     8.0     3.0            1.0\n",
      "Street               0.0    0.0     0.0      3.0         7.0         10.0      0.0          1.0       1.0     0.0           2.0   12.0    56.0     0.0            8.0\n",
      "Suburb               0.0    0.0     5.0      0.0         5.0          0.0      0.0          2.0       1.0     0.0           2.0    2.0     0.0    82.0            1.0\n",
      "Tall building        2.0    1.0     0.0      2.0        12.0          6.0      0.0          4.0       0.0     0.0           1.0    5.0     7.0     1.0           59.0\n",
      "\n",
      "Accuracy:  0.5386666666666666\n"
     ]
    }
   ],
   "source": [
    "predict(validation_set, \"Validation_RBF-SIFT_1000_50\", vocabulary=\"vocabulary_SIFT_1000_50\", classifier=\"classifier_RBF-SIFT_1000_50\")"
   ]
  },
  {
   "cell_type": "code",
   "execution_count": 61,
   "metadata": {},
   "outputs": [
    {
     "name": "stdout",
     "output_type": "stream",
     "text": [
      "\n",
      "\n",
      "CLASSIFICATION RESULTS (VALIDATION_RBF-KAZE_100_20)\n",
      "\n",
      "Confusion matrix\n",
      "\n",
      "KNOWN/PREDICTED  Bedroom  Coast  Forest  Highway  Industrial  Inside city  Kitchen  Living room  Mountain  Office  Open country  Store  Street  Suburb  Tall building\n",
      "Bedroom             20.0    0.0     5.0      2.0         7.0          6.0      0.0         33.0       3.0     3.0           3.0    3.0     2.0     4.0            9.0\n",
      "Coast                0.0   61.0     7.0      4.0         0.0          0.0      0.0          1.0       3.0     1.0          19.0    1.0     0.0     0.0            1.0\n",
      "Forest               0.0    0.0    61.0      0.0         2.0          0.0      0.0          2.0       4.0     0.0           6.0   19.0     2.0     1.0            3.0\n",
      "Highway              1.0   17.0     0.0     50.0         5.0          2.0      0.0          0.0       2.0     1.0          16.0    0.0     3.0     1.0            2.0\n",
      "Industrial           2.0    3.0     3.0      5.0        32.0          8.0      0.0          9.0       4.0     0.0           5.0   13.0     5.0     1.0           10.0\n",
      "Inside city          4.0    5.0     3.0      0.0         5.0         41.0      0.0          7.0       1.0     2.0           5.0   18.0     2.0     2.0            5.0\n",
      "Kitchen              6.0    0.0     0.0      2.0        10.0         15.0      5.0         39.0       2.0     4.0           0.0    6.0     1.0     1.0            9.0\n",
      "Living room          5.0    0.0     3.0      0.0         9.0          3.0      0.0         58.0       2.0     1.0           0.0    3.0     1.0     3.0           12.0\n",
      "Mountain             0.0   13.0     5.0      1.0         2.0          2.0      0.0          1.0      51.0     0.0          14.0    5.0     3.0     1.0            2.0\n",
      "Office               8.0    0.0     1.0      3.0         7.0         14.0      1.0         24.0       2.0    22.0           1.0    1.0     0.0     2.0           14.0\n",
      "Open country         0.0   22.0    10.0      6.0         8.0          3.0      0.0          3.0       7.0     0.0          29.0    5.0     3.0     2.0            2.0\n",
      "Store                1.0    0.0     9.0      0.0         3.0          7.0      0.0          7.0       5.0     0.0           3.0   59.0     3.0     2.0            1.0\n",
      "Street               0.0    3.0     5.0      0.0        15.0          7.0      0.0          1.0       5.0     0.0           6.0    6.0    45.0     2.0            5.0\n",
      "Suburb               0.0    2.0     2.0      1.0        13.0          6.0      0.0          8.0       3.0     0.0          13.0    3.0     6.0    37.0            6.0\n",
      "Tall building        4.0    7.0     2.0      1.0         8.0          9.0      0.0          9.0       6.0     0.0           5.0    6.0     1.0     3.0           39.0\n",
      "\n",
      "Accuracy:  0.40720961281708945\n"
     ]
    }
   ],
   "source": [
    "predict(validation_set, \"Validation_RBF-KAZE_100_20\", vocabulary=\"vocabulary_KAZE_100_20\",  classifier=\"classifier_RBF-KAZE_100_20\")"
   ]
  },
  {
   "cell_type": "code",
   "execution_count": 62,
   "metadata": {},
   "outputs": [
    {
     "name": "stdout",
     "output_type": "stream",
     "text": [
      "\n",
      "\n",
      "CLASSIFICATION RESULTS (VALIDATION_RBF-KAZE_1000_50)\n",
      "\n",
      "Confusion matrix\n",
      "\n",
      "KNOWN/PREDICTED  Bedroom  Coast  Forest  Highway  Industrial  Inside city  Kitchen  Living room  Mountain  Office  Open country  Store  Street  Suburb  Tall building\n",
      "Bedroom             25.0    1.0     4.0      0.0         7.0          8.0      0.0         36.0       3.0     4.0           1.0    4.0     2.0     0.0            5.0\n",
      "Coast                0.0   56.0     3.0      6.0         2.0          0.0      0.0          0.0       6.0     0.0          24.0    0.0     0.0     0.0            1.0\n",
      "Forest               0.0    0.0    81.0      0.0         0.0          0.0      0.0          2.0       4.0     0.0           4.0    6.0     1.0     0.0            2.0\n",
      "Highway              1.0   18.0     0.0     47.0         7.0          0.0      0.0          1.0       2.0     1.0          16.0    1.0     3.0     1.0            2.0\n",
      "Industrial           2.0    2.0     3.0      0.0        45.0         11.0      0.0          6.0       5.0     0.0           3.0   11.0     4.0     4.0            4.0\n",
      "Inside city          3.0    1.0     2.0      0.0         7.0         45.0      5.0          7.0       0.0     1.0           3.0   16.0     2.0     1.0            7.0\n",
      "Kitchen              9.0    1.0     0.0      0.0         9.0         15.0      7.0         40.0       0.0     4.0           1.0    5.0     1.0     1.0            7.0\n",
      "Living room         13.0    0.0     1.0      0.0        12.0          2.0      0.0         54.0       1.0     0.0           0.0    3.0     0.0     4.0           10.0\n",
      "Mountain             0.0    9.0     7.0      0.0         1.0          0.0      0.0          1.0      60.0     0.0          14.0    3.0     2.0     0.0            3.0\n",
      "Office               8.0    2.0     0.0      1.0         5.0         12.0      1.0         26.0       3.0    26.0           1.0    4.0     1.0     2.0            8.0\n",
      "Open country         1.0   22.0     8.0      4.0         6.0          0.0      0.0          1.0       9.0     0.0          42.0    1.0     3.0     1.0            2.0\n",
      "Store                0.0    0.0     4.0      0.0         5.0          6.0      0.0          7.0       3.0     0.0           1.0   66.0     1.0     0.0            7.0\n",
      "Street               0.0    0.0     3.0      0.0        12.0          3.0      0.0          3.0       7.0     0.0           4.0    3.0    55.0     0.0           10.0\n",
      "Suburb               0.0    1.0     3.0      1.0        16.0          3.0      0.0          6.0       6.0     0.0           9.0    4.0     4.0    44.0            3.0\n",
      "Tall building        3.0    6.0     1.0      1.0         5.0          7.0      1.0         10.0       5.0     0.0           2.0   10.0     1.0     1.0           47.0\n",
      "\n",
      "Accuracy:  0.4672897196261682\n"
     ]
    }
   ],
   "source": [
    "predict(validation_set, \"Validation_RBF-KAZE_1000_50\", vocabulary=\"vocabulary_KAZE_1000_50\", classifier=\"classifier_RBF-KAZE_1000_50\")"
   ]
  },
  {
   "cell_type": "code",
   "execution_count": 63,
   "metadata": {},
   "outputs": [
    {
     "name": "stdout",
     "output_type": "stream",
     "text": [
      "\n",
      "\n",
      "CLASSIFICATION RESULTS (VALIDATION_SIGMOID-SIFT_100_20)\n",
      "\n",
      "Confusion matrix\n",
      "\n",
      "KNOWN/PREDICTED  Bedroom  Coast  Forest  Highway  Industrial  Inside city  Kitchen  Living room  Mountain  Office  Open country  Store  Street  Suburb  Tall building\n",
      "Bedroom             15.0    3.0     2.0      2.0        10.0          7.0      1.0         25.0       2.0     8.0           6.0    5.0     7.0     1.0            6.0\n",
      "Coast                1.0   64.0     1.0      5.0         0.0          1.0      0.0          0.0      12.0     0.0          11.0    1.0     0.0     2.0            2.0\n",
      "Forest               0.0    0.0    84.0      0.0         0.0          0.0      0.0          0.0       7.0     0.0           6.0    1.0     1.0     1.0            0.0\n",
      "Highway              1.0   31.0     0.0     34.0         6.0          3.0      0.0          0.0       3.0     0.0           6.0    1.0     4.0     5.0            6.0\n",
      "Industrial           4.0    3.0     0.0      2.0        30.0         17.0      1.0          4.0       7.0     0.0           2.0   11.0    12.0     1.0            6.0\n",
      "Inside city          0.0    0.0     0.0      1.0         4.0         59.0      0.0          8.0       0.0     2.0           2.0    9.0     4.0     0.0           11.0\n",
      "Kitchen              6.0    1.0     0.0      0.0         8.0         19.0     10.0         33.0       0.0     9.0           0.0    7.0     2.0     1.0            4.0\n",
      "Living room          6.0    1.0     1.0      0.0        12.0          4.0      1.0         52.0       1.0     8.0           1.0    6.0     4.0     0.0            3.0\n",
      "Mountain             0.0   12.0     6.0      0.0         0.0          0.0      0.0          0.0      66.0     0.0           9.0    1.0     3.0     3.0            0.0\n",
      "Office               6.0    0.0     0.0      0.0         7.0         18.0      4.0         28.0       0.0    23.0           0.0    5.0     2.0     5.0            2.0\n",
      "Open country         0.0   28.0     8.0      0.0         2.0          0.0      0.0          0.0      14.0     0.0          42.0    0.0     6.0     0.0            0.0\n",
      "Store                0.0    0.0     3.0      0.0        12.0          8.0      2.0          3.0       0.0     0.0           0.0   60.0     8.0     3.0            1.0\n",
      "Street               0.0    4.0     2.0      0.0        17.0          8.0      0.0          3.0       2.0     0.0           1.0    5.0    45.0     0.0           13.0\n",
      "Suburb               0.0    0.0     6.0      0.0         4.0          1.0      0.0          5.0       5.0     0.0           3.0    3.0     0.0    71.0            2.0\n",
      "Tall building        1.0    8.0     1.0      6.0         4.0          6.0      0.0          1.0       4.0     2.0           3.0    2.0     1.0     2.0           59.0\n",
      "\n",
      "Accuracy:  0.476\n"
     ]
    }
   ],
   "source": [
    "predict(validation_set, \"Validation_SIGMOID-SIFT_100_20\", vocabulary=\"vocabulary_SIFT_100_20\",  classifier=\"classifier_SIGMOID-SIFT_100_20\")"
   ]
  },
  {
   "cell_type": "code",
   "execution_count": 64,
   "metadata": {},
   "outputs": [
    {
     "name": "stdout",
     "output_type": "stream",
     "text": [
      "\n",
      "\n",
      "CLASSIFICATION RESULTS (VALIDATION_SIGMOID-SIFT_1000_20)\n",
      "\n",
      "Confusion matrix\n",
      "\n",
      "KNOWN/PREDICTED  Bedroom  Coast  Forest  Highway  Industrial  Inside city  Kitchen  Living room  Mountain  Office  Open country  Store  Street  Suburb  Tall building\n",
      "Bedroom             17.0    1.0     1.0      2.0         6.0          4.0      2.0         43.0       2.0     6.0           1.0    7.0     4.0     0.0            4.0\n",
      "Coast                1.0   44.0     1.0     10.0         0.0          0.0      0.0          2.0      19.0     0.0          22.0    0.0     0.0     0.0            1.0\n",
      "Forest               0.0    0.0    82.0      0.0         0.0          0.0      0.0          0.0       6.0     0.0          12.0    0.0     0.0     0.0            0.0\n",
      "Highway              0.0   18.0     0.0     54.0         6.0          5.0      1.0          1.0       3.0     0.0           5.0    0.0     5.0     0.0            2.0\n",
      "Industrial           3.0    3.0     0.0      3.0        39.0          7.0      2.0         10.0       2.0     0.0           3.0    4.0    17.0     2.0            5.0\n",
      "Inside city          2.0    0.0     0.0      0.0        14.0         58.0      0.0          8.0       1.0     2.0           0.0    2.0     6.0     1.0            6.0\n",
      "Kitchen              3.0    0.0     0.0      1.0         6.0         12.0     20.0         44.0       0.0     6.0           0.0    3.0     1.0     2.0            2.0\n",
      "Living room          2.0    0.0     0.0      1.0         4.0          5.0      6.0         66.0       0.0     7.0           0.0    2.0     7.0     0.0            0.0\n",
      "Mountain             0.0    6.0     4.0      0.0         0.0          0.0      0.0          0.0      82.0     0.0           5.0    0.0     2.0     1.0            0.0\n",
      "Office               4.0    0.0     0.0      0.0         6.0          8.0      9.0         25.0       0.0    44.0           0.0    2.0     2.0     0.0            0.0\n",
      "Open country         0.0   13.0     5.0      3.0         1.0          0.0      0.0          0.0      32.0     0.0          46.0    0.0     0.0     0.0            0.0\n",
      "Store                0.0    0.0     4.0      0.0        23.0          9.0      2.0         10.0       2.0     2.0           0.0   39.0     7.0     1.0            1.0\n",
      "Street               0.0    0.0     0.0      2.0        12.0         12.0      0.0          1.0       1.0     0.0           2.0    5.0    58.0     0.0            7.0\n",
      "Suburb               0.0    0.0     4.0      0.0         4.0          0.0      0.0          3.0       1.0     0.0           2.0    2.0     0.0    83.0            1.0\n",
      "Tall building        1.0    0.0     0.0      4.0        11.0          9.0      0.0          4.0       1.0     0.0           4.0    2.0     8.0     2.0           54.0\n",
      "\n",
      "Accuracy:  0.524\n"
     ]
    }
   ],
   "source": [
    "predict(validation_set, \"Validation_SIGMOID-SIFT_1000_50\", vocabulary=\"vocabulary_SIFT_1000_50\", classifier=\"classifier_SIGMOID-SIFT_1000_50\")"
   ]
  },
  {
   "cell_type": "code",
   "execution_count": 65,
   "metadata": {},
   "outputs": [
    {
     "name": "stdout",
     "output_type": "stream",
     "text": [
      "\n",
      "\n",
      "CLASSIFICATION RESULTS (VALIDATION_SIGMOID-KAZE_100_20)\n",
      "\n",
      "Confusion matrix\n",
      "\n",
      "KNOWN/PREDICTED  Bedroom  Coast  Forest  Highway  Industrial  Inside city  Kitchen  Living room  Mountain  Office  Open country  Store  Street  Suburb  Tall building\n",
      "Bedroom             19.0    2.0     6.0      2.0         5.0          5.0      1.0         36.0       4.0     3.0           0.0    2.0     5.0     4.0            6.0\n",
      "Coast                0.0   57.0     6.0      5.0         0.0          0.0      0.0          2.0       7.0     1.0          18.0    1.0     0.0     0.0            1.0\n",
      "Forest               0.0    0.0    62.0      0.0         1.0          1.0      0.0          2.0       7.0     0.0           4.0   18.0     2.0     2.0            1.0\n",
      "Highway              1.0   21.0     0.0     47.0         4.0          2.0      0.0          0.0       2.0     1.0          16.0    0.0     3.0     1.0            2.0\n",
      "Industrial           4.0    6.0     4.0      2.0        25.0          9.0      0.0         12.0       5.0     0.0           5.0   10.0     6.0     2.0           10.0\n",
      "Inside city          3.0    5.0     4.0      0.0         2.0         46.0      1.0          8.0       1.0     2.0           5.0   13.0     3.0     1.0            6.0\n",
      "Kitchen              8.0    0.0     0.0      2.0         6.0         17.0      3.0         44.0       0.0     6.0           1.0    5.0     0.0     1.0            7.0\n",
      "Living room          4.0    1.0     3.0      0.0         6.0          2.0      0.0         60.0       4.0     0.0           0.0    4.0     0.0     2.0           14.0\n",
      "Mountain             1.0   16.0     6.0      0.0         4.0          3.0      0.0          1.0      54.0     0.0           7.0    4.0     3.0     1.0            0.0\n",
      "Office               7.0    4.0     1.0      1.0         6.0         17.0      1.0         25.0       2.0    17.0           1.0    1.0     3.0     3.0           11.0\n",
      "Open country         0.0   24.0     8.0      3.0         5.0          3.0      0.0          4.0      13.0     0.0          28.0    4.0     2.0     3.0            3.0\n",
      "Store                1.0    2.0    10.0      0.0         5.0         12.0      0.0          6.0       3.0     0.0           1.0   55.0     1.0     2.0            2.0\n",
      "Street               0.0    3.0     6.0      0.0        13.0          7.0      0.0          2.0      13.0     0.0           3.0    4.0    41.0     2.0            6.0\n",
      "Suburb               0.0    4.0     3.0      0.0        13.0          6.0      0.0          7.0       6.0     0.0          12.0    2.0     7.0    32.0            8.0\n",
      "Tall building        3.0    7.0     2.0      1.0         5.0         10.0      0.0         12.0       5.0     1.0           2.0    3.0     0.0     4.0           45.0\n",
      "\n",
      "Accuracy:  0.3945260347129506\n"
     ]
    }
   ],
   "source": [
    "predict(validation_set, \"Validation_SIGMOID-KAZE_100_20\", vocabulary=\"vocabulary_KAZE_100_20\",  classifier=\"classifier_SIGMOID-KAZE_100_20\")"
   ]
  },
  {
   "cell_type": "code",
   "execution_count": 66,
   "metadata": {},
   "outputs": [
    {
     "name": "stdout",
     "output_type": "stream",
     "text": [
      "\n",
      "\n",
      "CLASSIFICATION RESULTS (VALIDATION_SIGMOID-KAZE_1000_50)\n",
      "\n",
      "Confusion matrix\n",
      "\n",
      "KNOWN/PREDICTED  Bedroom  Coast  Forest  Highway  Industrial  Inside city  Kitchen  Living room  Mountain  Office  Open country  Store  Street  Suburb  Tall building\n",
      "Bedroom             24.0    5.0     5.0      0.0         6.0          9.0      0.0         37.0       2.0     4.0           3.0    3.0     0.0     0.0            2.0\n",
      "Coast                0.0   58.0     3.0      7.0         0.0          1.0      0.0          0.0       8.0     0.0          20.0    0.0     0.0     1.0            0.0\n",
      "Forest               0.0    2.0    81.0      0.0         0.0          0.0      0.0          2.0       3.0     0.0           3.0    5.0     2.0     0.0            2.0\n",
      "Highway              1.0   22.0     1.0     45.0         2.0          1.0      0.0          0.0       2.0     1.0          15.0    1.0     5.0     2.0            2.0\n",
      "Industrial           1.0    9.0     4.0      0.0        37.0          7.0      0.0          7.0       3.0     0.0           3.0   11.0     4.0     4.0           10.0\n",
      "Inside city          3.0    2.0     2.0      0.0         6.0         46.0      5.0          7.0       0.0     1.0           3.0   12.0     2.0     1.0           10.0\n",
      "Kitchen              9.0    3.0     0.0      0.0         7.0         15.0      9.0         40.0       0.0     3.0           1.0    5.0     1.0     0.0            7.0\n",
      "Living room          9.0    1.0     2.0      0.0        10.0          3.0      0.0         55.0       2.0     0.0           0.0    3.0     0.0     2.0           13.0\n",
      "Mountain             0.0   13.0     7.0      0.0         1.0          0.0      0.0          1.0      61.0     0.0          10.0    2.0     4.0     0.0            1.0\n",
      "Office               8.0    4.0     0.0      1.0         8.0         13.0      3.0         24.0       2.0    24.0           1.0    4.0     1.0     1.0            6.0\n",
      "Open country         2.0   24.0    10.0      3.0         7.0          0.0      0.0          0.0      10.0     0.0          33.0    2.0     4.0     1.0            4.0\n",
      "Store                0.0    1.0     4.0      0.0         6.0          8.0      0.0          7.0       1.0     0.0           2.0   62.0     1.0     0.0            8.0\n",
      "Street               0.0    2.0     2.0      0.0        10.0          2.0      0.0          3.0       7.0     0.0           3.0    3.0    53.0     1.0           14.0\n",
      "Suburb               0.0    5.0     3.0      1.0        13.0          4.0      0.0          5.0       3.0     0.0          13.0    4.0     5.0    41.0            3.0\n",
      "Tall building        3.0   14.0     0.0      1.0         5.0          8.0      0.0          8.0       4.0     1.0           2.0    9.0     1.0     1.0           43.0\n",
      "\n",
      "Accuracy:  0.4485981308411215\n"
     ]
    }
   ],
   "source": [
    "predict(validation_set, \"Validation_SIGMOID-KAZE_1000_50\", vocabulary=\"vocabulary_KAZE_1000_50\", classifier=\"classifier_SIGMOID-KAZE_1000_50\")"
   ]
  },
  {
   "cell_type": "code",
   "execution_count": 67,
   "metadata": {},
   "outputs": [
    {
     "name": "stdout",
     "output_type": "stream",
     "text": [
      "\n",
      "\n",
      "CLASSIFICATION RESULTS (VALIDATION_CHI2-SIFT_100_20)\n",
      "\n",
      "Confusion matrix\n",
      "\n",
      "KNOWN/PREDICTED  Bedroom  Coast  Forest  Highway  Industrial  Inside city  Kitchen  Living room  Mountain  Office  Open country  Store  Street  Suburb  Tall building\n",
      "Bedroom             27.0    3.0     1.0      1.0         6.0          9.0      4.0         21.0       1.0    10.0           1.0    8.0     2.0     1.0            5.0\n",
      "Coast                2.0   66.0     0.0      4.0         0.0          1.0      0.0          0.0      16.0     0.0          11.0    0.0     0.0     0.0            0.0\n",
      "Forest               0.0    0.0    86.0      0.0         0.0          0.0      0.0          0.0      10.0     0.0           3.0    0.0     0.0     1.0            0.0\n",
      "Highway              0.0   26.0     0.0     53.0         5.0          4.0      0.0          0.0       3.0     0.0           2.0    0.0     2.0     0.0            5.0\n",
      "Industrial           6.0    1.0     0.0      4.0        39.0         13.0      1.0          5.0       4.0     3.0           0.0   10.0     9.0     1.0            4.0\n",
      "Inside city          1.0    0.0     0.0      2.0         3.0         61.0      1.0          6.0       0.0     5.0           0.0    9.0     7.0     1.0            4.0\n",
      "Kitchen             12.0    0.0     0.0      0.0         6.0         18.0      9.0         29.0       0.0    16.0           0.0    6.0     0.0     0.0            4.0\n",
      "Living room          5.0    0.0     0.0      2.0        11.0          4.0      4.0         48.0       0.0    11.0           0.0    9.0     2.0     1.0            3.0\n",
      "Mountain             0.0    8.0     7.0      4.0         1.0          0.0      0.0          0.0      74.0     0.0           1.0    2.0     1.0     2.0            0.0\n",
      "Office               6.0    0.0     0.0      0.0         4.0         12.0      3.0         23.0       0.0    49.0           0.0    1.0     2.0     0.0            0.0\n",
      "Open country         2.0   17.0     5.0      2.0         3.0          0.0      0.0          0.0      33.0     0.0          36.0    0.0     1.0     0.0            1.0\n",
      "Store                0.0    0.0     2.0      0.0         3.0          8.0      2.0          5.0       0.0     2.0           0.0   63.0     9.0     5.0            1.0\n",
      "Street               0.0    1.0     1.0      0.0        16.0          7.0      0.0          2.0       0.0     0.0           0.0    7.0    53.0     0.0           13.0\n",
      "Suburb               0.0    0.0     2.0      0.0         0.0          1.0      0.0          5.0       0.0     0.0           2.0    2.0     0.0    87.0            1.0\n",
      "Tall building        4.0    2.0     1.0      3.0         6.0         11.0      0.0          2.0       2.0     1.0           1.0    3.0     5.0     1.0           58.0\n",
      "\n",
      "Accuracy:  0.5393333333333333\n"
     ]
    }
   ],
   "source": [
    "predict(validation_set, \"Validation_CHI2-SIFT_100_20\", vocabulary=\"vocabulary_SIFT_100_20\",  classifier=\"classifier_CHI2-SIFT_100_20\")"
   ]
  },
  {
   "cell_type": "code",
   "execution_count": 68,
   "metadata": {},
   "outputs": [
    {
     "name": "stdout",
     "output_type": "stream",
     "text": [
      "\n",
      "\n",
      "CLASSIFICATION RESULTS (VALIDATION_CHI2-SIFT_1000_20)\n",
      "\n",
      "Confusion matrix\n",
      "\n",
      "KNOWN/PREDICTED  Bedroom  Coast  Forest  Highway  Industrial  Inside city  Kitchen  Living room  Mountain  Office  Open country  Store  Street  Suburb  Tall building\n",
      "Bedroom             37.0    2.0     0.0      1.0        15.0          5.0      3.0         22.0       2.0     4.0           1.0    4.0     0.0     0.0            4.0\n",
      "Coast                1.0   69.0     0.0      4.0         0.0          0.0      0.0          0.0      10.0     0.0          16.0    0.0     0.0     0.0            0.0\n",
      "Forest               0.0    0.0    87.0      0.0         0.0          0.0      0.0          0.0       5.0     0.0           7.0    0.0     0.0     1.0            0.0\n",
      "Highway              0.0   19.0     0.0     63.0         2.0          5.0      0.0          0.0       1.0     0.0           6.0    0.0     3.0     0.0            1.0\n",
      "Industrial           6.0    3.0     0.0      4.0        45.0         11.0      3.0          3.0       1.0     2.0           0.0   10.0     8.0     1.0            3.0\n",
      "Inside city          4.0    0.0     0.0      3.0         9.0         57.0      2.0          2.0       0.0     1.0           0.0    7.0     5.0     1.0            9.0\n",
      "Kitchen              5.0    0.0     0.0      0.0         5.0         15.0     28.0         28.0       0.0    14.0           0.0    3.0     1.0     0.0            1.0\n",
      "Living room          8.0    1.0     0.0      0.0         6.0          4.0     12.0         56.0       1.0     6.0           0.0    3.0     1.0     0.0            2.0\n",
      "Mountain             0.0    8.0     6.0      1.0         0.0          0.0      0.0          0.0      73.0     0.0          12.0    0.0     0.0     0.0            0.0\n",
      "Office              10.0    0.0     0.0      1.0         3.0          9.0     10.0         13.0       0.0    50.0           0.0    3.0     1.0     0.0            0.0\n",
      "Open country         0.0   22.0     4.0      1.0         1.0          0.0      0.0          0.0      13.0     0.0          58.0    1.0     0.0     0.0            0.0\n",
      "Store                0.0    0.0     2.0      0.0         7.0          8.0      2.0          5.0       1.0     3.0           0.0   65.0     4.0     2.0            1.0\n",
      "Street               1.0    0.0     0.0      1.0        17.0         10.0      2.0          2.0       2.0     0.0           3.0    5.0    49.0     0.0            8.0\n",
      "Suburb               0.0    0.0     2.0      0.0         0.0          1.0      0.0          3.0       0.0     0.0           0.0    2.0     0.0    91.0            1.0\n",
      "Tall building        1.0    2.0     0.0      5.0         5.0          7.0      1.0          2.0       0.0     0.0           2.0    2.0     4.0     1.0           68.0\n",
      "\n",
      "Accuracy:  0.5973333333333334\n"
     ]
    }
   ],
   "source": [
    "predict(validation_set, \"Validation_CHI2-SIFT_1000_50\", vocabulary=\"vocabulary_SIFT_1000_50\", classifier=\"classifier_CHI2-SIFT_1000_50\")"
   ]
  },
  {
   "cell_type": "code",
   "execution_count": 69,
   "metadata": {},
   "outputs": [
    {
     "name": "stdout",
     "output_type": "stream",
     "text": [
      "\n",
      "\n",
      "CLASSIFICATION RESULTS (VALIDATION_CHI2-KAZE_100_20)\n",
      "\n",
      "Confusion matrix\n",
      "\n",
      "KNOWN/PREDICTED  Bedroom  Coast  Forest  Highway  Industrial  Inside city  Kitchen  Living room  Mountain  Office  Open country  Store  Street  Suburb  Tall building\n",
      "Bedroom             20.0    3.0     6.0      0.0         7.0          6.0      3.0         29.0       3.0     7.0           4.0    2.0     2.0     2.0            6.0\n",
      "Coast                0.0   58.0     0.0      5.0         0.0          0.0      0.0          0.0      14.0     0.0          20.0    0.0     0.0     0.0            1.0\n",
      "Forest               1.0    0.0    69.0      1.0         1.0          0.0      0.0          2.0      10.0     0.0           5.0    7.0     2.0     1.0            1.0\n",
      "Highway              0.0   12.0     0.0     59.0         5.0          4.0      0.0          0.0       1.0     2.0          17.0    0.0     0.0     0.0            0.0\n",
      "Industrial           5.0    3.0     2.0      1.0        34.0          8.0      1.0          6.0       9.0     0.0           1.0   12.0     7.0     3.0            8.0\n",
      "Inside city          2.0    1.0     4.0      4.0         4.0         34.0      6.0          5.0       3.0     5.0           1.0   17.0     3.0     5.0            6.0\n",
      "Kitchen              9.0    1.0     0.0      1.0         5.0         10.0     14.0         36.0       1.0     8.0           0.0    4.0     3.0     1.0            7.0\n",
      "Living room         10.0    0.0     1.0      0.0         4.0          3.0      2.0         56.0       4.0     0.0           0.0    8.0     1.0     5.0            6.0\n",
      "Mountain             2.0    5.0     5.0      0.0         1.0          1.0      0.0          0.0      68.0     1.0           6.0    2.0     5.0     1.0            3.0\n",
      "Office               9.0    0.0     2.0      2.0         5.0         13.0      7.0         26.0       1.0    22.0           1.0    2.0     2.0     2.0            6.0\n",
      "Open country         1.0   14.0     6.0      3.0         5.0          0.0      1.0          0.0      22.0     0.0          41.0    0.0     4.0     1.0            2.0\n",
      "Store                2.0    0.0     8.0      0.0         2.0          7.0      0.0          6.0       3.0     0.0           0.0   67.0     4.0     1.0            0.0\n",
      "Street               0.0    0.0     3.0      1.0        14.0          6.0      0.0          2.0       7.0     1.0           1.0    4.0    54.0     2.0            5.0\n",
      "Suburb               0.0    0.0     1.0      0.0         8.0          2.0      1.0          5.0       3.0     1.0           0.0    3.0     4.0    69.0            3.0\n",
      "Tall building        5.0    7.0     0.0      2.0         6.0          7.0      3.0          6.0      10.0     1.0           3.0    8.0     2.0     6.0           34.0\n",
      "\n",
      "Accuracy:  0.4666221628838451\n"
     ]
    }
   ],
   "source": [
    "predict(validation_set, \"Validation_CHI2-KAZE_100_20\", vocabulary=\"vocabulary_KAZE_100_20\",  classifier=\"classifier_CHI2-KAZE_100_20\")"
   ]
  },
  {
   "cell_type": "code",
   "execution_count": 70,
   "metadata": {},
   "outputs": [
    {
     "name": "stdout",
     "output_type": "stream",
     "text": [
      "\n",
      "\n",
      "CLASSIFICATION RESULTS (VALIDATION_CHI2-KAZE_1000_50)\n",
      "\n",
      "Confusion matrix\n",
      "\n",
      "KNOWN/PREDICTED  Bedroom  Coast  Forest  Highway  Industrial  Inside city  Kitchen  Living room  Mountain  Office  Open country  Store  Street  Suburb  Tall building\n",
      "Bedroom             32.0    3.0     4.0      1.0         4.0          8.0      3.0         27.0       1.0     5.0           1.0    4.0     3.0     0.0            4.0\n",
      "Coast                0.0   65.0     2.0      4.0         0.0          0.0      0.0          0.0       9.0     0.0          18.0    0.0     0.0     0.0            0.0\n",
      "Forest               1.0    0.0    85.0      0.0         0.0          0.0      0.0          1.0       3.0     0.0           4.0    2.0     2.0     1.0            1.0\n",
      "Highway              0.0   18.0     1.0     62.0         4.0          2.0      0.0          0.0       1.0     1.0           7.0    0.0     2.0     1.0            1.0\n",
      "Industrial           7.0    2.0     0.0      1.0        41.0         10.0      1.0          4.0       5.0     0.0           1.0   14.0     4.0     4.0            6.0\n",
      "Inside city          1.0    0.0     2.0      1.0         7.0         47.0      5.0          6.0       1.0     4.0           1.0   15.0     3.0     3.0            4.0\n",
      "Kitchen             11.0    1.0     0.0      0.0         4.0         15.0     17.0         30.0       0.0     7.0           1.0    8.0     1.0     1.0            4.0\n",
      "Living room         14.0    0.0     0.0      0.0         6.0          3.0      4.0         52.0       2.0     2.0           0.0    2.0     2.0     4.0            9.0\n",
      "Mountain             1.0   10.0     5.0      1.0         3.0          0.0      0.0          0.0      68.0     0.0           5.0    1.0     4.0     0.0            2.0\n",
      "Office              13.0    2.0     0.0      2.0         6.0         11.0      6.0         16.0       0.0    36.0           0.0    3.0     1.0     0.0            4.0\n",
      "Open country         0.0   29.0     6.0      4.0         5.0          0.0      0.0          0.0       8.0     0.0          42.0    0.0     3.0     1.0            2.0\n",
      "Store                0.0    0.0     4.0      0.0         5.0          7.0      1.0          6.0       0.0     0.0           0.0   70.0     3.0     2.0            2.0\n",
      "Street               0.0    0.0     2.0      0.0        12.0          4.0      0.0          3.0       8.0     0.0           4.0    1.0    58.0     1.0            7.0\n",
      "Suburb               0.0    0.0     3.0      1.0         8.0          2.0      2.0          1.0       2.0     1.0           1.0    2.0     2.0    73.0            2.0\n",
      "Tall building        5.0    9.0     1.0      1.0        11.0          7.0      3.0          3.0       4.0     1.0           0.0   10.0     0.0     2.0           43.0\n",
      "\n",
      "Accuracy:  0.5280373831775701\n"
     ]
    }
   ],
   "source": [
    "predict(validation_set, \"Validation_CHI2-KAZE_1000_50\", vocabulary=\"vocabulary_KAZE_1000_50\", classifier=\"classifier_CHI2-KAZE_1000_50\")"
   ]
  },
  {
   "cell_type": "code",
   "execution_count": 71,
   "metadata": {},
   "outputs": [
    {
     "name": "stdout",
     "output_type": "stream",
     "text": [
      "\n",
      "\n",
      "CLASSIFICATION RESULTS (VALIDATION_INTER-SIFT_100_20)\n",
      "\n",
      "Confusion matrix\n",
      "\n",
      "KNOWN/PREDICTED  Bedroom  Coast  Forest  Highway  Industrial  Inside city  Kitchen  Living room  Mountain  Office  Open country  Store  Street  Suburb  Tall building\n",
      "Bedroom             22.0    3.0     0.0      3.0         8.0          7.0      2.0         23.0       1.0    12.0           1.0    8.0     3.0     1.0            6.0\n",
      "Coast                2.0   60.0     0.0      6.0         0.0          1.0      0.0          0.0      12.0     0.0          18.0    0.0     0.0     0.0            1.0\n",
      "Forest               0.0    0.0    86.0      0.0         0.0          0.0      0.0          0.0       8.0     0.0           5.0    0.0     0.0     1.0            0.0\n",
      "Highway              1.0   21.0     0.0     53.0         3.0          5.0      0.0          0.0       2.0     0.0           7.0    0.0     4.0     0.0            4.0\n",
      "Industrial           5.0    1.0     0.0      2.0        36.0         10.0      2.0          8.0       6.0     2.0           0.0   15.0     7.0     1.0            5.0\n",
      "Inside city          3.0    0.0     0.0      1.0         5.0         54.0      2.0          5.0       0.0     4.0           0.0    8.0     9.0     2.0            7.0\n",
      "Kitchen             11.0    0.0     0.0      0.0         6.0         12.0     10.0         36.0       0.0    15.0           0.0    5.0     1.0     0.0            4.0\n",
      "Living room          6.0    0.0     0.0      1.0         7.0          1.0      3.0         60.0       0.0    11.0           0.0    5.0     2.0     1.0            3.0\n",
      "Mountain             0.0   10.0     5.0      2.0         1.0          0.0      0.0          0.0      70.0     0.0           7.0    2.0     1.0     2.0            0.0\n",
      "Office               4.0    0.0     0.0      0.0         7.0          9.0      8.0         26.0       0.0    43.0           0.0    3.0     0.0     0.0            0.0\n",
      "Open country         2.0   17.0     9.0      2.0         1.0          0.0      0.0          0.0      21.0     0.0          44.0    0.0     2.0     1.0            1.0\n",
      "Store                2.0    0.0     1.0      0.0         6.0         10.0      2.0          5.0       0.0     1.0           0.0   61.0     8.0     3.0            1.0\n",
      "Street               0.0    0.0     1.0      1.0        14.0          7.0      0.0          3.0       0.0     1.0           0.0    8.0    54.0     0.0           11.0\n",
      "Suburb               0.0    0.0     2.0      0.0         2.0          1.0      0.0          2.0       0.0     0.0           1.0    2.0     0.0    89.0            1.0\n",
      "Tall building        3.0    1.0     0.0      8.0        11.0          7.0      1.0          2.0       3.0     1.0           1.0    2.0     4.0     1.0           55.0\n",
      "\n",
      "Accuracy:  0.5313333333333333\n"
     ]
    }
   ],
   "source": [
    "predict(validation_set, \"Validation_INTER-SIFT_100_20\", vocabulary=\"vocabulary_SIFT_100_20\",  classifier=\"classifier_INTER-SIFT_100_20\")"
   ]
  },
  {
   "cell_type": "code",
   "execution_count": 72,
   "metadata": {},
   "outputs": [
    {
     "name": "stdout",
     "output_type": "stream",
     "text": [
      "\n",
      "\n",
      "CLASSIFICATION RESULTS (VALIDATION_INTER-SIFT_1000_20)\n",
      "\n",
      "Confusion matrix\n",
      "\n",
      "KNOWN/PREDICTED  Bedroom  Coast  Forest  Highway  Industrial  Inside city  Kitchen  Living room  Mountain  Office  Open country  Store  Street  Suburb  Tall building\n",
      "Bedroom             34.0    2.0     0.0      2.0        11.0          5.0      5.0         24.0       1.0     4.0           1.0    5.0     0.0     1.0            5.0\n",
      "Coast                1.0   78.0     0.0      3.0         0.0          0.0      0.0          0.0       9.0     0.0           9.0    0.0     0.0     0.0            0.0\n",
      "Forest               0.0    0.0    89.0      0.0         0.0          0.0      0.0          0.0       4.0     0.0           7.0    0.0     0.0     0.0            0.0\n",
      "Highway              0.0   21.0     0.0     62.0         5.0          3.0      0.0          0.0       2.0     0.0           3.0    0.0     4.0     0.0            0.0\n",
      "Industrial           4.0    2.0     0.0      5.0        39.0          7.0      4.0          7.0       1.0     2.0           0.0   14.0    10.0     1.0            4.0\n",
      "Inside city          5.0    0.0     0.0      4.0         5.0         60.0      2.0          2.0       0.0     1.0           0.0    7.0     5.0     1.0            8.0\n",
      "Kitchen              6.0    0.0     0.0      1.0         7.0         16.0     25.0         31.0       0.0    11.0           0.0    2.0     0.0     0.0            1.0\n",
      "Living room         11.0    0.0     0.0      0.0         5.0          5.0     10.0         53.0       1.0     8.0           0.0    3.0     2.0     0.0            2.0\n",
      "Mountain             0.0    9.0     6.0      1.0         0.0          0.0      0.0          0.0      73.0     0.0          10.0    0.0     0.0     1.0            0.0\n",
      "Office               9.0    0.0     0.0      1.0         3.0          8.0     10.0         19.0       0.0    48.0           0.0    0.0     1.0     0.0            1.0\n",
      "Open country         1.0   22.0     5.0      0.0         0.0          0.0      0.0          0.0      13.0     0.0          57.0    0.0     2.0     0.0            0.0\n",
      "Store                0.0    0.0     2.0      0.0         7.0          7.0      1.0          6.0       1.0     3.0           0.0   65.0     3.0     3.0            2.0\n",
      "Street               1.0    0.0     0.0      1.0        18.0         10.0      1.0          2.0       2.0     0.0           3.0    4.0    50.0     0.0            8.0\n",
      "Suburb               0.0    0.0     2.0      0.0         1.0          0.0      0.0          4.0       0.0     0.0           0.0    2.0     0.0    90.0            1.0\n",
      "Tall building        1.0    2.0     0.0      3.0         5.0          4.0      1.0          2.0       0.0     0.0           1.0    4.0     2.0     1.0           74.0\n",
      "\n",
      "Accuracy:  0.598\n"
     ]
    }
   ],
   "source": [
    "predict(validation_set, \"Validation_INTER-SIFT_1000_50\", vocabulary=\"vocabulary_SIFT_1000_50\", classifier=\"classifier_INTER-SIFT_1000_50\")"
   ]
  },
  {
   "cell_type": "code",
   "execution_count": 73,
   "metadata": {},
   "outputs": [
    {
     "name": "stdout",
     "output_type": "stream",
     "text": [
      "\n",
      "\n",
      "CLASSIFICATION RESULTS (VALIDATION_INTER-KAZE_100_20)\n",
      "\n",
      "Confusion matrix\n",
      "\n",
      "KNOWN/PREDICTED  Bedroom  Coast  Forest  Highway  Industrial  Inside city  Kitchen  Living room  Mountain  Office  Open country  Store  Street  Suburb  Tall building\n",
      "Bedroom             19.0    2.0     4.0      1.0         8.0          5.0      0.0         33.0       8.0     5.0           1.0    4.0     1.0     2.0            7.0\n",
      "Coast                1.0   63.0     1.0      2.0         1.0          0.0      0.0          0.0      12.0     0.0          18.0    0.0     0.0     0.0            0.0\n",
      "Forest               0.0    0.0    62.0      0.0         0.0          0.0      0.0          2.0       6.0     0.0           7.0   16.0     4.0     1.0            2.0\n",
      "Highway              0.0   21.0     0.0     51.0         5.0          4.0      0.0          1.0       4.0     1.0          11.0    0.0     0.0     0.0            2.0\n",
      "Industrial           5.0    2.0     1.0      3.0        35.0         10.0      0.0          6.0       8.0     0.0           2.0   11.0     8.0     2.0            7.0\n",
      "Inside city          1.0    4.0     4.0      0.0         5.0         38.0      0.0          9.0       2.0     3.0           4.0   16.0     4.0     2.0            8.0\n",
      "Kitchen              8.0    0.0     2.0      1.0         4.0         12.0      4.0         46.0       2.0     8.0           0.0    4.0     2.0     1.0            6.0\n",
      "Living room          6.0    0.0     1.0      0.0         8.0          5.0      0.0         55.0       4.0     0.0           0.0    4.0     1.0     5.0           11.0\n",
      "Mountain             1.0    5.0     8.0      0.0         1.0          4.0      0.0          0.0      58.0     0.0          10.0    3.0     5.0     4.0            1.0\n",
      "Office               8.0    0.0     0.0      2.0         7.0         15.0      2.0         29.0       3.0    19.0           1.0    2.0     1.0     1.0           10.0\n",
      "Open country         2.0   21.0     4.0      3.0         6.0          1.0      0.0          1.0      15.0     0.0          40.0    2.0     2.0     1.0            2.0\n",
      "Store                1.0    0.0     6.0      0.0         4.0          7.0      1.0          7.0       2.0     0.0           0.0   66.0     3.0     2.0            1.0\n",
      "Street               0.0    0.0     3.0      0.0        13.0          8.0      0.0          1.0       7.0     1.0           3.0    5.0    52.0     2.0            5.0\n",
      "Suburb               0.0    0.0     2.0      0.0        14.0          4.0      0.0          8.0       4.0     0.0           0.0    4.0     3.0    57.0            4.0\n",
      "Tall building        4.0    9.0     1.0      2.0         6.0          9.0      1.0          7.0      11.0     0.0           3.0    8.0     2.0     3.0           34.0\n",
      "\n",
      "Accuracy:  0.43591455273698265\n"
     ]
    }
   ],
   "source": [
    "predict(validation_set, \"Validation_INTER-KAZE_100_20\", vocabulary=\"vocabulary_KAZE_100_20\",  classifier=\"classifier_INTER-KAZE_100_20\")"
   ]
  },
  {
   "cell_type": "code",
   "execution_count": 74,
   "metadata": {},
   "outputs": [
    {
     "name": "stdout",
     "output_type": "stream",
     "text": [
      "\n",
      "\n",
      "CLASSIFICATION RESULTS (VALIDATION_INTER-KAZE_1000_50)\n",
      "\n",
      "Confusion matrix\n",
      "\n",
      "KNOWN/PREDICTED  Bedroom  Coast  Forest  Highway  Industrial  Inside city  Kitchen  Living room  Mountain  Office  Open country  Store  Street  Suburb  Tall building\n",
      "Bedroom             33.0    2.0     2.0      1.0         3.0          6.0      3.0         30.0       3.0     6.0           1.0    3.0     2.0     0.0            5.0\n",
      "Coast                0.0   65.0     1.0      4.0         1.0          0.0      0.0          0.0       6.0     0.0          20.0    0.0     0.0     0.0            1.0\n",
      "Forest               0.0    0.0    80.0      0.0         0.0          0.0      0.0          1.0       6.0     0.0           6.0    3.0     2.0     1.0            1.0\n",
      "Highway              0.0   15.0     1.0     64.0         3.0          0.0      0.0          0.0       1.0     1.0          11.0    1.0     2.0     1.0            0.0\n",
      "Industrial           7.0    2.0     1.0      2.0        35.0          9.0      2.0          9.0       3.0     0.0           2.0   13.0     4.0     5.0            6.0\n",
      "Inside city          3.0    0.0     2.0      3.0         7.0         47.0      5.0          5.0       0.0     2.0           2.0   15.0     3.0     3.0            3.0\n",
      "Kitchen             16.0    1.0     0.0      0.0         5.0         11.0     17.0         29.0       1.0     6.0           0.0    7.0     1.0     1.0            5.0\n",
      "Living room         16.0    0.0     1.0      0.0         6.0          4.0      3.0         51.0       1.0     2.0           0.0    2.0     1.0     4.0            9.0\n",
      "Mountain             2.0    7.0     5.0      1.0         3.0          0.0      0.0          0.0      68.0     0.0           7.0    2.0     3.0     0.0            2.0\n",
      "Office              14.0    2.0     0.0      2.0         3.0          9.0      5.0         16.0       0.0    38.0           0.0    5.0     2.0     0.0            4.0\n",
      "Open country         0.0   30.0     6.0      7.0         5.0          0.0      0.0          0.0       6.0     0.0          40.0    0.0     3.0     1.0            2.0\n",
      "Store                0.0    0.0     2.0      0.0         6.0         10.0      1.0          7.0       0.0     0.0           0.0   67.0     3.0     3.0            1.0\n",
      "Street               1.0    0.0     2.0      1.0        13.0          5.0      0.0          2.0       5.0     0.0           4.0    1.0    55.0     3.0            8.0\n",
      "Suburb               0.0    0.0     4.0      0.0        14.0          0.0      2.0          2.0       1.0     1.0           1.0    3.0     2.0    70.0            0.0\n",
      "Tall building        8.0    6.0     0.0      3.0         6.0          8.0      7.0          8.0       6.0     1.0           1.0    9.0     0.0     2.0           35.0\n",
      "\n",
      "Accuracy:  0.5106809078771696\n"
     ]
    }
   ],
   "source": [
    "predict(validation_set, \"Validation_INTER-KAZE_1000_50\", vocabulary=\"vocabulary_KAZE_1000_50\", classifier=\"classifier_INTER-KAZE_1000_50\")"
   ]
  },
  {
   "cell_type": "markdown",
   "metadata": {},
   "source": [
    "#### Segunda ronda"
   ]
  },
  {
   "cell_type": "code",
   "execution_count": null,
   "metadata": {},
   "outputs": [],
   "source": [
    "predict(validation_set, \"Validation_RBF-SIFT_2000_50\", vocabulary=\"vocabulary_SIFT_2000_50\", classifier=\"classifier_RBF-SIFT_2000_50\")"
   ]
  },
  {
   "cell_type": "code",
   "execution_count": null,
   "metadata": {},
   "outputs": [],
   "source": [
    "predict(validation_set, \"Validation_RBF-SIFT_2000_100\", vocabulary=\"vocabulary_SIFT_2000_100\", classifier=\"classifier_RBF-SIFT_2000_100\")"
   ]
  },
  {
   "cell_type": "code",
   "execution_count": null,
   "metadata": {},
   "outputs": [],
   "source": [
    "predict(validation_set, \"Validation_RBF-KAZE_2000_50\", vocabulary=\"vocabulary_KAZE_2000_50\", classifier=\"classifier_RBF-KAZE_2000_50\")"
   ]
  },
  {
   "cell_type": "code",
   "execution_count": null,
   "metadata": {},
   "outputs": [],
   "source": [
    "predict(validation_set, \"Validation_CHI2-SIFT_2000_50\", vocabulary=\"vocabulary_SIFT_2000_50\", classifier=\"classifier_CHI2-SIFT_2000_50\")"
   ]
  },
  {
   "cell_type": "code",
   "execution_count": null,
   "metadata": {},
   "outputs": [],
   "source": [
    "predict(validation_set, \"Validation_CHI2-SIFT_2000_100\", vocabulary=\"vocabulary_SIFT_2000_100\", classifier=\"classifier_cHI2-SIFT_2000_100\")"
   ]
  },
  {
   "cell_type": "code",
   "execution_count": null,
   "metadata": {},
   "outputs": [],
   "source": [
    "predict(validation_set, \"Validation_CHI2-KAZE_2000_50\", vocabulary=\"vocabulary_KAZE_2000_50\", classifier=\"classifier_CHI2-KAZE_2000_50\")"
   ]
  },
  {
   "cell_type": "code",
   "execution_count": null,
   "metadata": {},
   "outputs": [],
   "source": [
    "predict(validation_set, \"Validation_INTER-SIFT_2000_50\", vocabulary=\"vocabulary_SIFT_2000_50\", classifier=\"classifier_INTER-SIFT_2000_50\")"
   ]
  },
  {
   "cell_type": "code",
   "execution_count": null,
   "metadata": {},
   "outputs": [],
   "source": [
    "predict(validation_set, \"Validation_INTER-SIFT_2000_100\", vocabulary=\"vocabulary_SIFT_2000_100\", classifier=\"classifier_INTER-SIFT_2000_100\")"
   ]
  },
  {
   "cell_type": "code",
   "execution_count": null,
   "metadata": {},
   "outputs": [],
   "source": [
    "predict(validation_set, \"Validation_INTER-KAZE_2000_50\", vocabulary=\"vocabulary_KAZE_2000_50\", classifier=\"classifier_INTER-KAZE_2000_50\")"
   ]
  }
 ],
 "metadata": {
  "file_extension": ".py",
  "kernelspec": {
   "display_name": "Python 3",
   "language": "python",
   "name": "python3"
  },
  "language_info": {
   "codemirror_mode": {
    "name": "ipython",
    "version": 3
   },
   "file_extension": ".py",
   "mimetype": "text/x-python",
   "name": "python",
   "nbconvert_exporter": "python",
   "pygments_lexer": "ipython3",
   "version": "3.10.9"
  },
  "mimetype": "text/x-python",
  "name": "python",
  "npconvert_exporter": "python",
  "orig_nbformat": 2,
  "pygments_lexer": "ipython3",
  "version": 3
 },
 "nbformat": 4,
 "nbformat_minor": 2
}
